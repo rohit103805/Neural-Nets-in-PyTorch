{
  "nbformat": 4,
  "nbformat_minor": 0,
  "metadata": {
    "colab": {
      "name": "Image_Segmentation_Detectron2",
      "provenance": [],
      "collapsed_sections": []
    },
    "kernelspec": {
      "name": "python3",
      "display_name": "Python 3"
    },
    "language_info": {
      "name": "python"
    },
    "accelerator": "GPU"
  },
  "cells": [
    {
      "cell_type": "code",
      "metadata": {
        "id": "0wHprnj6_Q7o"
      },
      "source": [
        "!pip install openimages\n",
        "!pip install torch_snippets\n",
        "!pip install pycocotools\n",
        "!pip install git+git://github.com/waspinator/pycococreator.git@0.2.0"
      ],
      "execution_count": null,
      "outputs": []
    },
    {
      "cell_type": "code",
      "metadata": {
        "id": "YhqXAKKfBY58"
      },
      "source": [
        "import numpy as np\n",
        "from torch_snippets import *\n",
        "import matplotlib.pyplot as plt\n",
        "import pandas as pd\n",
        "from pycococreatortools import pycococreatortools\n",
        "from os import listdir\n",
        "from os.path import isfile, join\n",
        "from PIL import Image\n",
        "import cv2\n",
        "import torch"
      ],
      "execution_count": 2,
      "outputs": []
    },
    {
      "cell_type": "code",
      "metadata": {
        "id": "wzCdXxm2C6te"
      },
      "source": [
        "!wget -O train-annotations-object-segmentation.csv -q https://storage.googleapis.com/openimages/v5/train-annotations-object-segmentation.csv\n",
        "!wget -O classes.csv -q https://raw.githubusercontent.com/openimages/dataset/master/dict.csv"
      ],
      "execution_count": 3,
      "outputs": []
    },
    {
      "cell_type": "code",
      "metadata": {
        "colab": {
          "base_uri": "https://localhost:8080/"
        },
        "id": "QTO66y2DDbUZ",
        "outputId": "5bb3d90d-3d87-426f-d5b7-03047092e233"
      },
      "source": [
        "required_classes = 'person,dog,bird,elephant,Zebra'\n",
        "required_classes = [c.lower() for c in required_classes.lower().split(',')]\n",
        "print(required_classes)"
      ],
      "execution_count": 4,
      "outputs": [
        {
          "output_type": "stream",
          "name": "stdout",
          "text": [
            "['person', 'dog', 'bird', 'elephant', 'zebra']\n"
          ]
        }
      ]
    },
    {
      "cell_type": "code",
      "metadata": {
        "colab": {
          "base_uri": "https://localhost:8080/"
        },
        "id": "GnB6Zhi-EFQ3",
        "outputId": "1e6c0d0b-0bf8-49df-c088-5367afb1507d"
      },
      "source": [
        "classes = pd.read_csv('classes.csv', header=None)\n",
        "classes.columns = ['class','class_name']\n",
        "classes = classes[classes['class_name'].map(lambda x: x in required_classes)]\n",
        "print(classes)"
      ],
      "execution_count": 5,
      "outputs": [
        {
          "output_type": "stream",
          "name": "stdout",
          "text": [
            "           class class_name\n",
            "224     /m/015p6       bird\n",
            "753    /m/01g317     person\n",
            "5916    /m/0898b      zebra\n",
            "6420   /m/0bt9lr        dog\n",
            "6432  /m/0bwd_0j   elephant\n"
          ]
        }
      ]
    },
    {
      "cell_type": "code",
      "metadata": {
        "colab": {
          "base_uri": "https://localhost:8080/",
          "height": 145
        },
        "id": "7R9ZZWFXExWo",
        "outputId": "3460aca4-9487-44eb-b54f-992ffa386056"
      },
      "source": [
        "df=pd.read_csv('/content/train-annotations-object-segmentation.csv')\n",
        "df.head(2)"
      ],
      "execution_count": 6,
      "outputs": [
        {
          "output_type": "execute_result",
          "data": {
            "text/html": [
              "<div>\n",
              "<style scoped>\n",
              "    .dataframe tbody tr th:only-of-type {\n",
              "        vertical-align: middle;\n",
              "    }\n",
              "\n",
              "    .dataframe tbody tr th {\n",
              "        vertical-align: top;\n",
              "    }\n",
              "\n",
              "    .dataframe thead th {\n",
              "        text-align: right;\n",
              "    }\n",
              "</style>\n",
              "<table border=\"1\" class=\"dataframe\">\n",
              "  <thead>\n",
              "    <tr style=\"text-align: right;\">\n",
              "      <th></th>\n",
              "      <th>MaskPath</th>\n",
              "      <th>ImageID</th>\n",
              "      <th>LabelName</th>\n",
              "      <th>BoxID</th>\n",
              "      <th>BoxXMin</th>\n",
              "      <th>BoxXMax</th>\n",
              "      <th>BoxYMin</th>\n",
              "      <th>BoxYMax</th>\n",
              "      <th>PredictedIoU</th>\n",
              "      <th>Clicks</th>\n",
              "    </tr>\n",
              "  </thead>\n",
              "  <tbody>\n",
              "    <tr>\n",
              "      <th>0</th>\n",
              "      <td>677c122b0eaa5d16_m04yx4_9a041d52.png</td>\n",
              "      <td>677c122b0eaa5d16</td>\n",
              "      <td>/m/04yx4</td>\n",
              "      <td>9a041d52</td>\n",
              "      <td>0.887500</td>\n",
              "      <td>0.960938</td>\n",
              "      <td>0.454167</td>\n",
              "      <td>0.720833</td>\n",
              "      <td>0.86864</td>\n",
              "      <td>0.95498 0.65197 1;0.89370 0.56579 1;0.94701 0....</td>\n",
              "    </tr>\n",
              "    <tr>\n",
              "      <th>1</th>\n",
              "      <td>05529ae018130c68_m09j2d_b1115fd0.png</td>\n",
              "      <td>05529ae018130c68</td>\n",
              "      <td>/m/09j2d</td>\n",
              "      <td>b1115fd0</td>\n",
              "      <td>0.086875</td>\n",
              "      <td>0.254375</td>\n",
              "      <td>0.504708</td>\n",
              "      <td>0.790960</td>\n",
              "      <td>0.80250</td>\n",
              "      <td>0.16388 0.50114 1;0.25069 0.75425 1;0.13478 0....</td>\n",
              "    </tr>\n",
              "  </tbody>\n",
              "</table>\n",
              "</div>"
            ],
            "text/plain": [
              "                               MaskPath  ...                                             Clicks\n",
              "0  677c122b0eaa5d16_m04yx4_9a041d52.png  ...  0.95498 0.65197 1;0.89370 0.56579 1;0.94701 0....\n",
              "1  05529ae018130c68_m09j2d_b1115fd0.png  ...  0.16388 0.50114 1;0.25069 0.75425 1;0.13478 0....\n",
              "\n",
              "[2 rows x 10 columns]"
            ]
          },
          "metadata": {},
          "execution_count": 6
        }
      ]
    },
    {
      "cell_type": "code",
      "metadata": {
        "colab": {
          "base_uri": "https://localhost:8080/",
          "height": 281
        },
        "id": "JgXPTMo7FGGu",
        "outputId": "cc0b4f29-fafb-4665-f5db-987697978668"
      },
      "source": [
        "data = pd.merge(df, classes, left_on='LabelName', right_on='class')\n",
        "data.head(2)"
      ],
      "execution_count": 7,
      "outputs": [
        {
          "output_type": "execute_result",
          "data": {
            "text/html": [
              "<div>\n",
              "<style scoped>\n",
              "    .dataframe tbody tr th:only-of-type {\n",
              "        vertical-align: middle;\n",
              "    }\n",
              "\n",
              "    .dataframe tbody tr th {\n",
              "        vertical-align: top;\n",
              "    }\n",
              "\n",
              "    .dataframe thead th {\n",
              "        text-align: right;\n",
              "    }\n",
              "</style>\n",
              "<table border=\"1\" class=\"dataframe\">\n",
              "  <thead>\n",
              "    <tr style=\"text-align: right;\">\n",
              "      <th></th>\n",
              "      <th>MaskPath</th>\n",
              "      <th>ImageID</th>\n",
              "      <th>LabelName</th>\n",
              "      <th>BoxID</th>\n",
              "      <th>BoxXMin</th>\n",
              "      <th>BoxXMax</th>\n",
              "      <th>BoxYMin</th>\n",
              "      <th>BoxYMax</th>\n",
              "      <th>PredictedIoU</th>\n",
              "      <th>Clicks</th>\n",
              "      <th>class</th>\n",
              "      <th>class_name</th>\n",
              "    </tr>\n",
              "  </thead>\n",
              "  <tbody>\n",
              "    <tr>\n",
              "      <th>0</th>\n",
              "      <td>e9a7da5ff1fd56df_m01g317_1803811b.png</td>\n",
              "      <td>e9a7da5ff1fd56df</td>\n",
              "      <td>/m/01g317</td>\n",
              "      <td>1803811b</td>\n",
              "      <td>0.468125</td>\n",
              "      <td>0.62875</td>\n",
              "      <td>0.188714</td>\n",
              "      <td>0.949121</td>\n",
              "      <td>0.86841</td>\n",
              "      <td>0.47513 0.38255 1;0.52118 0.91333 0;0.47513 0....</td>\n",
              "      <td>/m/01g317</td>\n",
              "      <td>person</td>\n",
              "    </tr>\n",
              "    <tr>\n",
              "      <th>1</th>\n",
              "      <td>18c1fd8342d55af8_m01g317_a9a97702.png</td>\n",
              "      <td>18c1fd8342d55af8</td>\n",
              "      <td>/m/01g317</td>\n",
              "      <td>a9a97702</td>\n",
              "      <td>0.394375</td>\n",
              "      <td>0.60500</td>\n",
              "      <td>0.241667</td>\n",
              "      <td>0.903333</td>\n",
              "      <td>0.81242</td>\n",
              "      <td>0.57036 0.81358 1;0.54599 0.65655 0;0.42280 0....</td>\n",
              "      <td>/m/01g317</td>\n",
              "      <td>person</td>\n",
              "    </tr>\n",
              "  </tbody>\n",
              "</table>\n",
              "</div>"
            ],
            "text/plain": [
              "                                MaskPath  ... class_name\n",
              "0  e9a7da5ff1fd56df_m01g317_1803811b.png  ...     person\n",
              "1  18c1fd8342d55af8_m01g317_a9a97702.png  ...     person\n",
              "\n",
              "[2 rows x 12 columns]"
            ]
          },
          "metadata": {},
          "execution_count": 7
        }
      ]
    },
    {
      "cell_type": "code",
      "metadata": {
        "id": "VPG3cnN6FXzu"
      },
      "source": [
        "subset_data = data.groupby('class_name').agg({'ImageID': lambda x: list(x)[:500]})\n",
        "subset_data = flatten(subset_data.ImageID.tolist())\n",
        "subset_data = data[data['ImageID'].map(lambda x: x in subset_data)]\n",
        "subset_masks = subset_data['MaskPath'].tolist()"
      ],
      "execution_count": 9,
      "outputs": []
    },
    {
      "cell_type": "code",
      "metadata": {
        "colab": {
          "base_uri": "https://localhost:8080/"
        },
        "id": "ZmschJBQILNr",
        "outputId": "220804d9-b44c-4b5c-bdee-ef7816952f51"
      },
      "source": [
        "!mkdir -p masks\n",
        "for c in Tqdm('0123456789abcdef'):\n",
        " !wget -q https://storage.googleapis.com/openimages/v5/train-masks/train-masks-{c}.zip\n",
        " !unzip -q train-masks-{c}.zip -d tmp_masks\n",
        " !rm train-masks-{c}.zip\n",
        " tmp_masks = Glob('tmp_masks', silent=True)\n",
        " items = [(m,fname(m)) for m in tmp_masks]\n",
        " items = [(i,j) for (i,j) in items if j in subset_masks]\n",
        " for i,j in items:\n",
        "   os.rename(i, f'masks/{j}')\n",
        " !rm -rf tmp_masks"
      ],
      "execution_count": 10,
      "outputs": [
        {
          "output_type": "stream",
          "name": "stderr",
          "text": [
            "100%|██████████| 16/16 [21:47<00:00, 81.71s/it]\n"
          ]
        }
      ]
    },
    {
      "cell_type": "code",
      "metadata": {
        "colab": {
          "base_uri": "https://localhost:8080/"
        },
        "id": "RoYGJLZvIpQB",
        "outputId": "13b047d7-eb66-419b-f8d1-aacb8a0432ba"
      },
      "source": [
        "masks = Glob('masks')\n",
        "masks = [fname(mask) for mask in masks]\n",
        "subset_data = subset_data[subset_data['MaskPath'].map(lambda x: x in masks)]\n",
        "subset_imageIds = subset_data['ImageID'].tolist()\n",
        "from openimages.download import _download_images_by_id\n",
        "!mkdir images \n",
        "_download_images_by_id(subset_imageIds, 'train', './images/')"
      ],
      "execution_count": 11,
      "outputs": [
        {
          "output_type": "stream",
          "name": "stderr",
          "text": [
            "2021-10-18 12:31:09.996 | INFO     | torch_snippets.paths:inner:24 - 6331 files found at masks\n",
            "100%|██████████| 6331/6331 [04:54<00:00, 21.53it/s]\n"
          ]
        }
      ]
    },
    {
      "cell_type": "code",
      "metadata": {
        "colab": {
          "base_uri": "https://localhost:8080/"
        },
        "id": "g1fJV9P2KRs5",
        "outputId": "521160b2-43c8-49be-cb6f-03b637c2da88"
      },
      "source": [
        "from google.colab import drive\n",
        "drive.mount(\"/content/drive\")"
      ],
      "execution_count": 12,
      "outputs": [
        {
          "output_type": "stream",
          "name": "stdout",
          "text": [
            "Mounted at /content/drive\n"
          ]
        }
      ]
    },
    {
      "cell_type": "code",
      "metadata": {
        "colab": {
          "base_uri": "https://localhost:8080/"
        },
        "id": "MVr3dnZARkeH",
        "outputId": "4de49f51-e585-4196-fb1e-7a13aaad0261"
      },
      "source": [
        "import zipfile\n",
        "files = Glob('images') + Glob('masks') + ['train-annotations-object-segmentation.csv', 'classes.csv']\n",
        "with zipfile.ZipFile('/content/drive/MyDrive/data.zip','w') as zipme:\n",
        "    for file in Tqdm(files):\n",
        "        zipme.write(file, compress_type=zipfile.ZIP_DEFLATED)"
      ],
      "execution_count": 13,
      "outputs": [
        {
          "output_type": "stream",
          "name": "stderr",
          "text": [
            "2021-10-18 12:37:05.661 | INFO     | torch_snippets.paths:inner:24 - 2204 files found at images\n",
            "2021-10-18 12:37:05.702 | INFO     | torch_snippets.paths:inner:24 - 6331 files found at masks\n",
            "100%|██████████| 8537/8537 [01:54<00:00, 74.58it/s]\n"
          ]
        }
      ]
    },
    {
      "cell_type": "code",
      "metadata": {
        "id": "34G0aXsxVmyY"
      },
      "source": [
        "!mkdir -p train/\n",
        "!mv images train/myData2020\n",
        "!mv masks train/annotations"
      ],
      "execution_count": 14,
      "outputs": []
    },
    {
      "cell_type": "markdown",
      "metadata": {
        "id": "9LbjLEITVt_M"
      },
      "source": [
        "## Preprocessing the data"
      ]
    },
    {
      "cell_type": "code",
      "metadata": {
        "id": "MezjiKK_V46-"
      },
      "source": [
        "import datetime"
      ],
      "execution_count": 31,
      "outputs": []
    },
    {
      "cell_type": "code",
      "metadata": {
        "id": "ouyBt8FKVyIL"
      },
      "source": [
        "INFO = {\n",
        " \"description\": \"MyData2021\",\n",
        " \"url\": \"None\",\n",
        " \"version\": \"1.0\",\n",
        " \"year\": 2021,\n",
        " \"contributor\": \"Rohit_Mondal\",\n",
        " \"date_created\": datetime.datetime.utcnow().isoformat(' ')\n",
        "}"
      ],
      "execution_count": 32,
      "outputs": []
    },
    {
      "cell_type": "code",
      "metadata": {
        "id": "0fOJNkKoV-nO"
      },
      "source": [
        "LICENSES = [\n",
        "    {\n",
        "        \"id\": 1,\n",
        "        \"name\": \"HITK\"\n",
        "    }\n",
        "]"
      ],
      "execution_count": 33,
      "outputs": []
    },
    {
      "cell_type": "code",
      "metadata": {
        "colab": {
          "base_uri": "https://localhost:8080/"
        },
        "id": "Ia3tII8eWNp4",
        "outputId": "485c57a0-7960-4276-fce5-250130242264"
      },
      "source": [
        "CATEGORIES = [{'id': id+1, 'name': name.replace('/',''), 'supercategory': 'none'} for id,(_,(name, clss_name)) in enumerate(classes.iterrows())]\n",
        "print(CATEGORIES)"
      ],
      "execution_count": 34,
      "outputs": [
        {
          "output_type": "stream",
          "name": "stdout",
          "text": [
            "[{'id': 1, 'name': 'm015p6', 'supercategory': 'none'}, {'id': 2, 'name': 'm01g317', 'supercategory': 'none'}, {'id': 3, 'name': 'm0898b', 'supercategory': 'none'}, {'id': 4, 'name': 'm0bt9lr', 'supercategory': 'none'}, {'id': 5, 'name': 'm0bwd_0j', 'supercategory': 'none'}]\n"
          ]
        }
      ]
    },
    {
      "cell_type": "code",
      "metadata": {
        "id": "jYtMfFDMYC0g"
      },
      "source": [
        "coco_output = {\n",
        " \"info\": INFO,\n",
        " \"licenses\": LICENSES,\n",
        " \"categories\": CATEGORIES,\n",
        " \"images\": [],\n",
        " \"annotations\": []\n",
        "}"
      ],
      "execution_count": 35,
      "outputs": []
    },
    {
      "cell_type": "code",
      "metadata": {
        "id": "izsLVWQDSBef"
      },
      "source": [
        "IMAGE_DIR = '/content/train/myData2020/'\n",
        "ANNOTATION_DIR = '/content/train/annotations/'"
      ],
      "execution_count": 36,
      "outputs": []
    },
    {
      "cell_type": "code",
      "metadata": {
        "id": "iMhXqCwDR8sA"
      },
      "source": [
        "image_files = [f for f in listdir(IMAGE_DIR) if isfile(join(IMAGE_DIR, f))]\n",
        "annotation_files = [f for f in listdir(ANNOTATION_DIR) if isfile(join(ANNOTATION_DIR, f))]"
      ],
      "execution_count": 37,
      "outputs": []
    },
    {
      "cell_type": "code",
      "metadata": {
        "colab": {
          "base_uri": "https://localhost:8080/"
        },
        "id": "l5uBQqtVdLGm",
        "outputId": "8205fc0b-fe35-4ad2-d351-36045537ee59"
      },
      "source": [
        "print(len(annotation_files))\n",
        "print(len(image_files))"
      ],
      "execution_count": 38,
      "outputs": [
        {
          "output_type": "stream",
          "name": "stdout",
          "text": [
            "6331\n",
            "2204\n"
          ]
        }
      ]
    },
    {
      "cell_type": "code",
      "metadata": {
        "id": "aeHVqYu3bwG_"
      },
      "source": [
        "image_id = 1\n",
        "for image_filename in Tqdm(image_files):\n",
        "    image = Image.open(IMAGE_DIR + '/' + image_filename)\n",
        "    image_info = pycococreatortools.create_image_info(image_id, os.path.basename(image_filename), image.size)\n",
        "    print(image_info)\n",
        "    coco_output[\"images\"].append(image_info)\n",
        "    image_id = image_id + 1"
      ],
      "execution_count": null,
      "outputs": []
    },
    {
      "cell_type": "code",
      "metadata": {
        "colab": {
          "base_uri": "https://localhost:8080/"
        },
        "id": "OqhT4_yGcCnH",
        "outputId": "19513a9b-bf0d-471d-c6ae-3bc00e5824f9"
      },
      "source": [
        "segmentation_id = 1\n",
        "for annotation_filename in Tqdm(annotation_files):\n",
        "    image_id = [f for f in coco_output[\"images\"] if stem(f['file_name'])==annotation_filename.split('_')[0]][0]['id']\n",
        "    class_id = [x['id'] for x in CATEGORIES if x['name'] in annotation_filename][0]\n",
        "    category_info = {'id': class_id, 'is_crowd': 'crowd' in image_filename}\n",
        "    binary_mask = np.asarray(Image.open(f'{ANNOTATION_DIR}/{annotation_filename}').convert('1')).astype(np.uint8)\n",
        " \n",
        "    annotation_info = pycococreatortools.create_annotation_info(segmentation_id, image_id, category_info, binary_mask, image.size, tolerance=2)\n",
        "\n",
        "    if annotation_info is not None:\n",
        "        coco_output[\"annotations\"].append(annotation_info)\n",
        "        segmentation_id = segmentation_id + 1"
      ],
      "execution_count": 40,
      "outputs": [
        {
          "output_type": "stream",
          "name": "stderr",
          "text": [
            "100%|██████████| 6331/6331 [06:56<00:00, 15.19it/s]\n"
          ]
        }
      ]
    },
    {
      "cell_type": "code",
      "metadata": {
        "id": "pGFFgVsoeVzx"
      },
      "source": [
        "coco_output['categories'] = [{'id': id+1, 'name': clss_name, 'supercategory': 'none'} for id,(_,(name, clss_name)) in enumerate(classes.iterrows())]"
      ],
      "execution_count": 41,
      "outputs": []
    },
    {
      "cell_type": "code",
      "metadata": {
        "id": "SEy8tGm6eYLn"
      },
      "source": [
        "import json\n",
        "with open('/content/drive/MyDrive/images.json', 'w') as output_json_file:\n",
        "    json.dump(coco_output, output_json_file)"
      ],
      "execution_count": 43,
      "outputs": []
    },
    {
      "cell_type": "markdown",
      "metadata": {
        "id": "0dhxmq5OfyFS"
      },
      "source": [
        "## Training the Model"
      ]
    },
    {
      "cell_type": "code",
      "metadata": {
        "colab": {
          "base_uri": "https://localhost:8080/"
        },
        "id": "4JTZkfwvfovU",
        "outputId": "abd82958-0eb7-4b72-bea2-b25c6c8b2e50"
      },
      "source": [
        "!nvidia-smi"
      ],
      "execution_count": 44,
      "outputs": [
        {
          "output_type": "stream",
          "name": "stdout",
          "text": [
            "Mon Oct 18 13:02:55 2021       \n",
            "+-----------------------------------------------------------------------------+\n",
            "| NVIDIA-SMI 470.74       Driver Version: 460.32.03    CUDA Version: 11.2     |\n",
            "|-------------------------------+----------------------+----------------------+\n",
            "| GPU  Name        Persistence-M| Bus-Id        Disp.A | Volatile Uncorr. ECC |\n",
            "| Fan  Temp  Perf  Pwr:Usage/Cap|         Memory-Usage | GPU-Util  Compute M. |\n",
            "|                               |                      |               MIG M. |\n",
            "|===============================+======================+======================|\n",
            "|   0  Tesla K80           Off  | 00000000:00:04.0 Off |                    0 |\n",
            "| N/A   34C    P8    28W / 149W |      3MiB / 11441MiB |      0%      Default |\n",
            "|                               |                      |                  N/A |\n",
            "+-------------------------------+----------------------+----------------------+\n",
            "                                                                               \n",
            "+-----------------------------------------------------------------------------+\n",
            "| Processes:                                                                  |\n",
            "|  GPU   GI   CI        PID   Type   Process name                  GPU Memory |\n",
            "|        ID   ID                                                   Usage      |\n",
            "|=============================================================================|\n",
            "|  No running processes found                                                 |\n",
            "+-----------------------------------------------------------------------------+\n"
          ]
        }
      ]
    },
    {
      "cell_type": "code",
      "metadata": {
        "colab": {
          "base_uri": "https://localhost:8080/",
          "height": 35
        },
        "id": "Og9JtdrLf5K0",
        "outputId": "b6bd5f27-4dac-42c2-a02c-75355f09831f"
      },
      "source": [
        "torch.__version__"
      ],
      "execution_count": 45,
      "outputs": [
        {
          "output_type": "execute_result",
          "data": {
            "application/vnd.google.colaboratory.intrinsic+json": {
              "type": "string"
            },
            "text/plain": [
              "'1.9.0+cu111'"
            ]
          },
          "metadata": {},
          "execution_count": 45
        }
      ]
    },
    {
      "cell_type": "code",
      "metadata": {
        "id": "Tob7pADVgF42"
      },
      "source": [
        "!pip install detectron2 -f https://dl.fbaipublicfiles.com/detectron2/wheels/cu111/torch1.9/index.html\n",
        "!pip install pyyaml==5.1 pycocotools>=2.0.1"
      ],
      "execution_count": null,
      "outputs": []
    },
    {
      "cell_type": "code",
      "metadata": {
        "id": "FmGiyEkjgot0"
      },
      "source": [
        "from detectron2 import model_zoo\n",
        "from detectron2.engine import DefaultPredictor\n",
        "from detectron2.config import get_cfg\n",
        "from detectron2.utils.visualizer import Visualizer\n",
        "from detectron2.data import MetadataCatalog, DatasetCatalog\n",
        "from detectron2.engine import DefaultTrainer"
      ],
      "execution_count": 48,
      "outputs": []
    },
    {
      "cell_type": "code",
      "metadata": {
        "id": "B6IyodHggtK8"
      },
      "source": [
        "from detectron2.data.datasets import register_coco_instances\n",
        "register_coco_instances(\"dataset_train\", {}, \"images.json\", \"/content/train/myData2020\")"
      ],
      "execution_count": 49,
      "outputs": []
    },
    {
      "cell_type": "code",
      "metadata": {
        "id": "EhRbZ2zWg93Y"
      },
      "source": [
        "cfg = get_cfg()\n",
        "cfg.merge_from_file(model_zoo.get_config_file(\"COCO-InstanceSegmentation/mask_rcnn_R_50_FPN_3x.yaml\"))\n",
        "cfg.DATASETS.TRAIN = (\"dataset_train\",)\n",
        "cfg.DATASETS.TEST = ()\n",
        "cfg.DATALOADER.NUM_WORKERS = 2\n",
        "cfg.MODEL.WEIGHTS = model_zoo.get_checkpoint_url(\"COCO-\\\n",
        "InstanceSegmentation/mask_rcnn_R_50_FPN_3x.yaml\")\n",
        "cfg.SOLVER.IMS_PER_BATCH = 2\n",
        "cfg.SOLVER.BASE_LR = 0.00025 \n",
        "cfg.SOLVER.MAX_ITER = 2700\n",
        "cfg.MODEL.ROI_HEADS.BATCH_SIZE_PER_IMAGE = 512\n",
        "cfg.MODEL.ROI_HEADS.NUM_CLASSES = len(classes)"
      ],
      "execution_count": 53,
      "outputs": []
    },
    {
      "cell_type": "code",
      "metadata": {
        "colab": {
          "base_uri": "https://localhost:8080/"
        },
        "id": "NdDoySJ6hPDM",
        "outputId": "b8226083-da18-4eb9-d7b1-3a1160ac3d80"
      },
      "source": [
        "os.makedirs(cfg.OUTPUT_DIR, exist_ok=True)\n",
        "trainer = DefaultTrainer(cfg)\n",
        "trainer.resume_or_load(resume=False)\n",
        "trainer.train()"
      ],
      "execution_count": 54,
      "outputs": [
        {
          "output_type": "stream",
          "name": "stderr",
          "text": [
            "2021-10-18  13:56:33 INFO Model:\n",
            "GeneralizedRCNN(\n",
            "  (backbone): FPN(\n",
            "    (fpn_lateral2): Conv2d(256, 256, kernel_size=(1, 1), stride=(1, 1))\n",
            "    (fpn_output2): Conv2d(256, 256, kernel_size=(3, 3), stride=(1, 1), padding=(1, 1))\n",
            "    (fpn_lateral3): Conv2d(512, 256, kernel_size=(1, 1), stride=(1, 1))\n",
            "    (fpn_output3): Conv2d(256, 256, kernel_size=(3, 3), stride=(1, 1), padding=(1, 1))\n",
            "    (fpn_lateral4): Conv2d(1024, 256, kernel_size=(1, 1), stride=(1, 1))\n",
            "    (fpn_output4): Conv2d(256, 256, kernel_size=(3, 3), stride=(1, 1), padding=(1, 1))\n",
            "    (fpn_lateral5): Conv2d(2048, 256, kernel_size=(1, 1), stride=(1, 1))\n",
            "    (fpn_output5): Conv2d(256, 256, kernel_size=(3, 3), stride=(1, 1), padding=(1, 1))\n",
            "    (top_block): LastLevelMaxPool()\n",
            "    (bottom_up): ResNet(\n",
            "      (stem): BasicStem(\n",
            "        (conv1): Conv2d(\n",
            "          3, 64, kernel_size=(7, 7), stride=(2, 2), padding=(3, 3), bias=False\n",
            "          (norm): FrozenBatchNorm2d(num_features=64, eps=1e-05)\n",
            "        )\n",
            "      )\n",
            "      (res2): Sequential(\n",
            "        (0): BottleneckBlock(\n",
            "          (shortcut): Conv2d(\n",
            "            64, 256, kernel_size=(1, 1), stride=(1, 1), bias=False\n",
            "            (norm): FrozenBatchNorm2d(num_features=256, eps=1e-05)\n",
            "          )\n",
            "          (conv1): Conv2d(\n",
            "            64, 64, kernel_size=(1, 1), stride=(1, 1), bias=False\n",
            "            (norm): FrozenBatchNorm2d(num_features=64, eps=1e-05)\n",
            "          )\n",
            "          (conv2): Conv2d(\n",
            "            64, 64, kernel_size=(3, 3), stride=(1, 1), padding=(1, 1), bias=False\n",
            "            (norm): FrozenBatchNorm2d(num_features=64, eps=1e-05)\n",
            "          )\n",
            "          (conv3): Conv2d(\n",
            "            64, 256, kernel_size=(1, 1), stride=(1, 1), bias=False\n",
            "            (norm): FrozenBatchNorm2d(num_features=256, eps=1e-05)\n",
            "          )\n",
            "        )\n",
            "        (1): BottleneckBlock(\n",
            "          (conv1): Conv2d(\n",
            "            256, 64, kernel_size=(1, 1), stride=(1, 1), bias=False\n",
            "            (norm): FrozenBatchNorm2d(num_features=64, eps=1e-05)\n",
            "          )\n",
            "          (conv2): Conv2d(\n",
            "            64, 64, kernel_size=(3, 3), stride=(1, 1), padding=(1, 1), bias=False\n",
            "            (norm): FrozenBatchNorm2d(num_features=64, eps=1e-05)\n",
            "          )\n",
            "          (conv3): Conv2d(\n",
            "            64, 256, kernel_size=(1, 1), stride=(1, 1), bias=False\n",
            "            (norm): FrozenBatchNorm2d(num_features=256, eps=1e-05)\n",
            "          )\n",
            "        )\n",
            "        (2): BottleneckBlock(\n",
            "          (conv1): Conv2d(\n",
            "            256, 64, kernel_size=(1, 1), stride=(1, 1), bias=False\n",
            "            (norm): FrozenBatchNorm2d(num_features=64, eps=1e-05)\n",
            "          )\n",
            "          (conv2): Conv2d(\n",
            "            64, 64, kernel_size=(3, 3), stride=(1, 1), padding=(1, 1), bias=False\n",
            "            (norm): FrozenBatchNorm2d(num_features=64, eps=1e-05)\n",
            "          )\n",
            "          (conv3): Conv2d(\n",
            "            64, 256, kernel_size=(1, 1), stride=(1, 1), bias=False\n",
            "            (norm): FrozenBatchNorm2d(num_features=256, eps=1e-05)\n",
            "          )\n",
            "        )\n",
            "      )\n",
            "      (res3): Sequential(\n",
            "        (0): BottleneckBlock(\n",
            "          (shortcut): Conv2d(\n",
            "            256, 512, kernel_size=(1, 1), stride=(2, 2), bias=False\n",
            "            (norm): FrozenBatchNorm2d(num_features=512, eps=1e-05)\n",
            "          )\n",
            "          (conv1): Conv2d(\n",
            "            256, 128, kernel_size=(1, 1), stride=(2, 2), bias=False\n",
            "            (norm): FrozenBatchNorm2d(num_features=128, eps=1e-05)\n",
            "          )\n",
            "          (conv2): Conv2d(\n",
            "            128, 128, kernel_size=(3, 3), stride=(1, 1), padding=(1, 1), bias=False\n",
            "            (norm): FrozenBatchNorm2d(num_features=128, eps=1e-05)\n",
            "          )\n",
            "          (conv3): Conv2d(\n",
            "            128, 512, kernel_size=(1, 1), stride=(1, 1), bias=False\n",
            "            (norm): FrozenBatchNorm2d(num_features=512, eps=1e-05)\n",
            "          )\n",
            "        )\n",
            "        (1): BottleneckBlock(\n",
            "          (conv1): Conv2d(\n",
            "            512, 128, kernel_size=(1, 1), stride=(1, 1), bias=False\n",
            "            (norm): FrozenBatchNorm2d(num_features=128, eps=1e-05)\n",
            "          )\n",
            "          (conv2): Conv2d(\n",
            "            128, 128, kernel_size=(3, 3), stride=(1, 1), padding=(1, 1), bias=False\n",
            "            (norm): FrozenBatchNorm2d(num_features=128, eps=1e-05)\n",
            "          )\n",
            "          (conv3): Conv2d(\n",
            "            128, 512, kernel_size=(1, 1), stride=(1, 1), bias=False\n",
            "            (norm): FrozenBatchNorm2d(num_features=512, eps=1e-05)\n",
            "          )\n",
            "        )\n",
            "        (2): BottleneckBlock(\n",
            "          (conv1): Conv2d(\n",
            "            512, 128, kernel_size=(1, 1), stride=(1, 1), bias=False\n",
            "            (norm): FrozenBatchNorm2d(num_features=128, eps=1e-05)\n",
            "          )\n",
            "          (conv2): Conv2d(\n",
            "            128, 128, kernel_size=(3, 3), stride=(1, 1), padding=(1, 1), bias=False\n",
            "            (norm): FrozenBatchNorm2d(num_features=128, eps=1e-05)\n",
            "          )\n",
            "          (conv3): Conv2d(\n",
            "            128, 512, kernel_size=(1, 1), stride=(1, 1), bias=False\n",
            "            (norm): FrozenBatchNorm2d(num_features=512, eps=1e-05)\n",
            "          )\n",
            "        )\n",
            "        (3): BottleneckBlock(\n",
            "          (conv1): Conv2d(\n",
            "            512, 128, kernel_size=(1, 1), stride=(1, 1), bias=False\n",
            "            (norm): FrozenBatchNorm2d(num_features=128, eps=1e-05)\n",
            "          )\n",
            "          (conv2): Conv2d(\n",
            "            128, 128, kernel_size=(3, 3), stride=(1, 1), padding=(1, 1), bias=False\n",
            "            (norm): FrozenBatchNorm2d(num_features=128, eps=1e-05)\n",
            "          )\n",
            "          (conv3): Conv2d(\n",
            "            128, 512, kernel_size=(1, 1), stride=(1, 1), bias=False\n",
            "            (norm): FrozenBatchNorm2d(num_features=512, eps=1e-05)\n",
            "          )\n",
            "        )\n",
            "      )\n",
            "      (res4): Sequential(\n",
            "        (0): BottleneckBlock(\n",
            "          (shortcut): Conv2d(\n",
            "            512, 1024, kernel_size=(1, 1), stride=(2, 2), bias=False\n",
            "            (norm): FrozenBatchNorm2d(num_features=1024, eps=1e-05)\n",
            "          )\n",
            "          (conv1): Conv2d(\n",
            "            512, 256, kernel_size=(1, 1), stride=(2, 2), bias=False\n",
            "            (norm): FrozenBatchNorm2d(num_features=256, eps=1e-05)\n",
            "          )\n",
            "          (conv2): Conv2d(\n",
            "            256, 256, kernel_size=(3, 3), stride=(1, 1), padding=(1, 1), bias=False\n",
            "            (norm): FrozenBatchNorm2d(num_features=256, eps=1e-05)\n",
            "          )\n",
            "          (conv3): Conv2d(\n",
            "            256, 1024, kernel_size=(1, 1), stride=(1, 1), bias=False\n",
            "            (norm): FrozenBatchNorm2d(num_features=1024, eps=1e-05)\n",
            "          )\n",
            "        )\n",
            "        (1): BottleneckBlock(\n",
            "          (conv1): Conv2d(\n",
            "            1024, 256, kernel_size=(1, 1), stride=(1, 1), bias=False\n",
            "            (norm): FrozenBatchNorm2d(num_features=256, eps=1e-05)\n",
            "          )\n",
            "          (conv2): Conv2d(\n",
            "            256, 256, kernel_size=(3, 3), stride=(1, 1), padding=(1, 1), bias=False\n",
            "            (norm): FrozenBatchNorm2d(num_features=256, eps=1e-05)\n",
            "          )\n",
            "          (conv3): Conv2d(\n",
            "            256, 1024, kernel_size=(1, 1), stride=(1, 1), bias=False\n",
            "            (norm): FrozenBatchNorm2d(num_features=1024, eps=1e-05)\n",
            "          )\n",
            "        )\n",
            "        (2): BottleneckBlock(\n",
            "          (conv1): Conv2d(\n",
            "            1024, 256, kernel_size=(1, 1), stride=(1, 1), bias=False\n",
            "            (norm): FrozenBatchNorm2d(num_features=256, eps=1e-05)\n",
            "          )\n",
            "          (conv2): Conv2d(\n",
            "            256, 256, kernel_size=(3, 3), stride=(1, 1), padding=(1, 1), bias=False\n",
            "            (norm): FrozenBatchNorm2d(num_features=256, eps=1e-05)\n",
            "          )\n",
            "          (conv3): Conv2d(\n",
            "            256, 1024, kernel_size=(1, 1), stride=(1, 1), bias=False\n",
            "            (norm): FrozenBatchNorm2d(num_features=1024, eps=1e-05)\n",
            "          )\n",
            "        )\n",
            "        (3): BottleneckBlock(\n",
            "          (conv1): Conv2d(\n",
            "            1024, 256, kernel_size=(1, 1), stride=(1, 1), bias=False\n",
            "            (norm): FrozenBatchNorm2d(num_features=256, eps=1e-05)\n",
            "          )\n",
            "          (conv2): Conv2d(\n",
            "            256, 256, kernel_size=(3, 3), stride=(1, 1), padding=(1, 1), bias=False\n",
            "            (norm): FrozenBatchNorm2d(num_features=256, eps=1e-05)\n",
            "          )\n",
            "          (conv3): Conv2d(\n",
            "            256, 1024, kernel_size=(1, 1), stride=(1, 1), bias=False\n",
            "            (norm): FrozenBatchNorm2d(num_features=1024, eps=1e-05)\n",
            "          )\n",
            "        )\n",
            "        (4): BottleneckBlock(\n",
            "          (conv1): Conv2d(\n",
            "            1024, 256, kernel_size=(1, 1), stride=(1, 1), bias=False\n",
            "            (norm): FrozenBatchNorm2d(num_features=256, eps=1e-05)\n",
            "          )\n",
            "          (conv2): Conv2d(\n",
            "            256, 256, kernel_size=(3, 3), stride=(1, 1), padding=(1, 1), bias=False\n",
            "            (norm): FrozenBatchNorm2d(num_features=256, eps=1e-05)\n",
            "          )\n",
            "          (conv3): Conv2d(\n",
            "            256, 1024, kernel_size=(1, 1), stride=(1, 1), bias=False\n",
            "            (norm): FrozenBatchNorm2d(num_features=1024, eps=1e-05)\n",
            "          )\n",
            "        )\n",
            "        (5): BottleneckBlock(\n",
            "          (conv1): Conv2d(\n",
            "            1024, 256, kernel_size=(1, 1), stride=(1, 1), bias=False\n",
            "            (norm): FrozenBatchNorm2d(num_features=256, eps=1e-05)\n",
            "          )\n",
            "          (conv2): Conv2d(\n",
            "            256, 256, kernel_size=(3, 3), stride=(1, 1), padding=(1, 1), bias=False\n",
            "            (norm): FrozenBatchNorm2d(num_features=256, eps=1e-05)\n",
            "          )\n",
            "          (conv3): Conv2d(\n",
            "            256, 1024, kernel_size=(1, 1), stride=(1, 1), bias=False\n",
            "            (norm): FrozenBatchNorm2d(num_features=1024, eps=1e-05)\n",
            "          )\n",
            "        )\n",
            "      )\n",
            "      (res5): Sequential(\n",
            "        (0): BottleneckBlock(\n",
            "          (shortcut): Conv2d(\n",
            "            1024, 2048, kernel_size=(1, 1), stride=(2, 2), bias=False\n",
            "            (norm): FrozenBatchNorm2d(num_features=2048, eps=1e-05)\n",
            "          )\n",
            "          (conv1): Conv2d(\n",
            "            1024, 512, kernel_size=(1, 1), stride=(2, 2), bias=False\n",
            "            (norm): FrozenBatchNorm2d(num_features=512, eps=1e-05)\n",
            "          )\n",
            "          (conv2): Conv2d(\n",
            "            512, 512, kernel_size=(3, 3), stride=(1, 1), padding=(1, 1), bias=False\n",
            "            (norm): FrozenBatchNorm2d(num_features=512, eps=1e-05)\n",
            "          )\n",
            "          (conv3): Conv2d(\n",
            "            512, 2048, kernel_size=(1, 1), stride=(1, 1), bias=False\n",
            "            (norm): FrozenBatchNorm2d(num_features=2048, eps=1e-05)\n",
            "          )\n",
            "        )\n",
            "        (1): BottleneckBlock(\n",
            "          (conv1): Conv2d(\n",
            "            2048, 512, kernel_size=(1, 1), stride=(1, 1), bias=False\n",
            "            (norm): FrozenBatchNorm2d(num_features=512, eps=1e-05)\n",
            "          )\n",
            "          (conv2): Conv2d(\n",
            "            512, 512, kernel_size=(3, 3), stride=(1, 1), padding=(1, 1), bias=False\n",
            "            (norm): FrozenBatchNorm2d(num_features=512, eps=1e-05)\n",
            "          )\n",
            "          (conv3): Conv2d(\n",
            "            512, 2048, kernel_size=(1, 1), stride=(1, 1), bias=False\n",
            "            (norm): FrozenBatchNorm2d(num_features=2048, eps=1e-05)\n",
            "          )\n",
            "        )\n",
            "        (2): BottleneckBlock(\n",
            "          (conv1): Conv2d(\n",
            "            2048, 512, kernel_size=(1, 1), stride=(1, 1), bias=False\n",
            "            (norm): FrozenBatchNorm2d(num_features=512, eps=1e-05)\n",
            "          )\n",
            "          (conv2): Conv2d(\n",
            "            512, 512, kernel_size=(3, 3), stride=(1, 1), padding=(1, 1), bias=False\n",
            "            (norm): FrozenBatchNorm2d(num_features=512, eps=1e-05)\n",
            "          )\n",
            "          (conv3): Conv2d(\n",
            "            512, 2048, kernel_size=(1, 1), stride=(1, 1), bias=False\n",
            "            (norm): FrozenBatchNorm2d(num_features=2048, eps=1e-05)\n",
            "          )\n",
            "        )\n",
            "      )\n",
            "    )\n",
            "  )\n",
            "  (proposal_generator): RPN(\n",
            "    (rpn_head): StandardRPNHead(\n",
            "      (conv): Conv2d(\n",
            "        256, 256, kernel_size=(3, 3), stride=(1, 1), padding=(1, 1)\n",
            "        (activation): ReLU()\n",
            "      )\n",
            "      (objectness_logits): Conv2d(256, 3, kernel_size=(1, 1), stride=(1, 1))\n",
            "      (anchor_deltas): Conv2d(256, 12, kernel_size=(1, 1), stride=(1, 1))\n",
            "    )\n",
            "    (anchor_generator): DefaultAnchorGenerator(\n",
            "      (cell_anchors): BufferList()\n",
            "    )\n",
            "  )\n",
            "  (roi_heads): StandardROIHeads(\n",
            "    (box_pooler): ROIPooler(\n",
            "      (level_poolers): ModuleList(\n",
            "        (0): ROIAlign(output_size=(7, 7), spatial_scale=0.25, sampling_ratio=0, aligned=True)\n",
            "        (1): ROIAlign(output_size=(7, 7), spatial_scale=0.125, sampling_ratio=0, aligned=True)\n",
            "        (2): ROIAlign(output_size=(7, 7), spatial_scale=0.0625, sampling_ratio=0, aligned=True)\n",
            "        (3): ROIAlign(output_size=(7, 7), spatial_scale=0.03125, sampling_ratio=0, aligned=True)\n",
            "      )\n",
            "    )\n",
            "    (box_head): FastRCNNConvFCHead(\n",
            "      (flatten): Flatten(start_dim=1, end_dim=-1)\n",
            "      (fc1): Linear(in_features=12544, out_features=1024, bias=True)\n",
            "      (fc_relu1): ReLU()\n",
            "      (fc2): Linear(in_features=1024, out_features=1024, bias=True)\n",
            "      (fc_relu2): ReLU()\n",
            "    )\n",
            "    (box_predictor): FastRCNNOutputLayers(\n",
            "      (cls_score): Linear(in_features=1024, out_features=6, bias=True)\n",
            "      (bbox_pred): Linear(in_features=1024, out_features=20, bias=True)\n",
            "    )\n",
            "    (mask_pooler): ROIPooler(\n",
            "      (level_poolers): ModuleList(\n",
            "        (0): ROIAlign(output_size=(14, 14), spatial_scale=0.25, sampling_ratio=0, aligned=True)\n",
            "        (1): ROIAlign(output_size=(14, 14), spatial_scale=0.125, sampling_ratio=0, aligned=True)\n",
            "        (2): ROIAlign(output_size=(14, 14), spatial_scale=0.0625, sampling_ratio=0, aligned=True)\n",
            "        (3): ROIAlign(output_size=(14, 14), spatial_scale=0.03125, sampling_ratio=0, aligned=True)\n",
            "      )\n",
            "    )\n",
            "    (mask_head): MaskRCNNConvUpsampleHead(\n",
            "      (mask_fcn1): Conv2d(\n",
            "        256, 256, kernel_size=(3, 3), stride=(1, 1), padding=(1, 1)\n",
            "        (activation): ReLU()\n",
            "      )\n",
            "      (mask_fcn2): Conv2d(\n",
            "        256, 256, kernel_size=(3, 3), stride=(1, 1), padding=(1, 1)\n",
            "        (activation): ReLU()\n",
            "      )\n",
            "      (mask_fcn3): Conv2d(\n",
            "        256, 256, kernel_size=(3, 3), stride=(1, 1), padding=(1, 1)\n",
            "        (activation): ReLU()\n",
            "      )\n",
            "      (mask_fcn4): Conv2d(\n",
            "        256, 256, kernel_size=(3, 3), stride=(1, 1), padding=(1, 1)\n",
            "        (activation): ReLU()\n",
            "      )\n",
            "      (deconv): ConvTranspose2d(256, 256, kernel_size=(2, 2), stride=(2, 2))\n",
            "      (deconv_relu): ReLU()\n",
            "      (predictor): Conv2d(256, 5, kernel_size=(1, 1), stride=(1, 1))\n",
            "    )\n",
            "  )\n",
            ")\n",
            "2021-10-18  13:56:33 INFO Loaded 2204 images in COCO format from images.json\n",
            "2021-10-18  13:56:33 INFO Removed 0 images with no usable annotations. 2204 images left.\n",
            "2021-10-18  13:56:33 INFO [DatasetMapper] Augmentations used in training: [ResizeShortestEdge(short_edge_length=(640, 672, 704, 736, 768, 800), max_size=1333, sample_style='choice'), RandomFlip()]\n",
            "2021-10-18  13:56:33 INFO Using training sampler TrainingSampler\n",
            "2021-10-18  13:56:33 INFO Serializing 2204 elements to byte tensors and concatenating them all ...\n",
            "2021-10-18  13:56:34 INFO Serialized dataset takes 7.58 MiB\n",
            "2021-10-18  13:56:34 WARNING SOLVER.STEPS contains values larger than SOLVER.MAX_ITER. These values will be ignored.\n",
            "2021-10-18  13:56:34 INFO [Checkpointer] Loading from https://dl.fbaipublicfiles.com/detectron2/COCO-InstanceSegmentation/mask_rcnn_R_50_FPN_3x/137849600/model_final_f10217.pkl ...\n",
            "2021-10-18  13:56:34 INFO Reading a file from 'Detectron2 Model Zoo'\n",
            "2021-10-18  13:56:34 WARNING Skip loading parameter 'roi_heads.box_predictor.cls_score.weight' to the model due to incompatible shapes: (81, 1024) in the checkpoint but (6, 1024) in the model! You might want to double check if this is expected.\n",
            "2021-10-18  13:56:34 WARNING Skip loading parameter 'roi_heads.box_predictor.cls_score.bias' to the model due to incompatible shapes: (81,) in the checkpoint but (6,) in the model! You might want to double check if this is expected.\n",
            "2021-10-18  13:56:34 WARNING Skip loading parameter 'roi_heads.box_predictor.bbox_pred.weight' to the model due to incompatible shapes: (320, 1024) in the checkpoint but (20, 1024) in the model! You might want to double check if this is expected.\n",
            "2021-10-18  13:56:34 WARNING Skip loading parameter 'roi_heads.box_predictor.bbox_pred.bias' to the model due to incompatible shapes: (320,) in the checkpoint but (20,) in the model! You might want to double check if this is expected.\n",
            "2021-10-18  13:56:34 WARNING Skip loading parameter 'roi_heads.mask_head.predictor.weight' to the model due to incompatible shapes: (80, 256, 1, 1) in the checkpoint but (5, 256, 1, 1) in the model! You might want to double check if this is expected.\n",
            "2021-10-18  13:56:34 WARNING Skip loading parameter 'roi_heads.mask_head.predictor.bias' to the model due to incompatible shapes: (80,) in the checkpoint but (5,) in the model! You might want to double check if this is expected.\n",
            "2021-10-18  13:56:34 WARNING Some model parameters or buffers are not found in the checkpoint:\n",
            "\u001b[34mroi_heads.box_predictor.bbox_pred.{bias, weight}\u001b[0m\n",
            "\u001b[34mroi_heads.box_predictor.cls_score.{bias, weight}\u001b[0m\n",
            "\u001b[34mroi_heads.mask_head.predictor.{bias, weight}\u001b[0m\n",
            "2021-10-18  13:56:34 WARNING The checkpoint state_dict contains keys that are not used by the model:\n",
            "  \u001b[35mproposal_generator.anchor_generator.cell_anchors.{0, 1, 2, 3, 4}\u001b[0m\n",
            "2021-10-18  13:56:34 INFO Starting training from iteration 0\n",
            "2021-10-18  13:57:02 INFO  eta: 1:03:00  iter: 19  total_loss: 2.865  loss_cls: 1.911  loss_box_reg: 0.1862  loss_mask: 0.6923  loss_rpn_cls: 0.03407  loss_rpn_loc: 0.01699  time: 1.3972  data_time: 0.0397  lr: 4.9953e-06  max_mem: 4396M\n",
            "2021-10-18  13:57:30 INFO  eta: 1:02:15  iter: 39  total_loss: 2.737  loss_cls: 1.753  loss_box_reg: 0.183  loss_mask: 0.6907  loss_rpn_cls: 0.02427  loss_rpn_loc: 0.01677  time: 1.3898  data_time: 0.0092  lr: 9.9902e-06  max_mem: 4519M\n",
            "2021-10-18  13:57:58 INFO  eta: 1:01:47  iter: 59  total_loss: 2.504  loss_cls: 1.531  loss_box_reg: 0.1845  loss_mask: 0.6885  loss_rpn_cls: 0.06758  loss_rpn_loc: 0.01697  time: 1.3965  data_time: 0.0124  lr: 1.4985e-05  max_mem: 4607M\n",
            "2021-10-18  13:58:27 INFO  eta: 1:01:31  iter: 79  total_loss: 2.161  loss_cls: 1.206  loss_box_reg: 0.1672  loss_mask: 0.6811  loss_rpn_cls: 0.03364  loss_rpn_loc: 0.01009  time: 1.4048  data_time: 0.0103  lr: 1.998e-05  max_mem: 4607M\n",
            "2021-10-18  13:58:56 INFO  eta: 1:01:09  iter: 99  total_loss: 1.768  loss_cls: 0.8498  loss_box_reg: 0.1638  loss_mask: 0.6804  loss_rpn_cls: 0.05447  loss_rpn_loc: 0.0196  time: 1.4118  data_time: 0.0108  lr: 2.4975e-05  max_mem: 4607M\n",
            "2021-10-18  13:59:24 INFO  eta: 1:00:34  iter: 119  total_loss: 1.465  loss_cls: 0.5465  loss_box_reg: 0.1609  loss_mask: 0.6672  loss_rpn_cls: 0.02911  loss_rpn_loc: 0.01104  time: 1.4082  data_time: 0.0110  lr: 2.997e-05  max_mem: 4607M\n",
            "2021-10-18  13:59:52 INFO  eta: 1:00:06  iter: 139  total_loss: 1.242  loss_cls: 0.387  loss_box_reg: 0.1231  loss_mask: 0.6512  loss_rpn_cls: 0.02496  loss_rpn_loc: 0.01887  time: 1.4093  data_time: 0.0100  lr: 3.4965e-05  max_mem: 4607M\n",
            "2021-10-18  14:00:20 INFO  eta: 0:59:35  iter: 159  total_loss: 1.321  loss_cls: 0.3527  loss_box_reg: 0.1343  loss_mask: 0.6588  loss_rpn_cls: 0.05604  loss_rpn_loc: 0.01391  time: 1.4069  data_time: 0.0112  lr: 3.996e-05  max_mem: 4607M\n",
            "2021-10-18  14:00:49 INFO  eta: 0:59:13  iter: 179  total_loss: 1.376  loss_cls: 0.359  loss_box_reg: 0.2516  loss_mask: 0.6525  loss_rpn_cls: 0.06197  loss_rpn_loc: 0.01873  time: 1.4122  data_time: 0.0113  lr: 4.4955e-05  max_mem: 4607M\n",
            "2021-10-18  14:01:17 INFO  eta: 0:58:44  iter: 199  total_loss: 1.055  loss_cls: 0.2  loss_box_reg: 0.1277  loss_mask: 0.6473  loss_rpn_cls: 0.06175  loss_rpn_loc: 0.01379  time: 1.4109  data_time: 0.0117  lr: 4.995e-05  max_mem: 4607M\n",
            "2021-10-18  14:01:44 INFO  eta: 0:58:12  iter: 219  total_loss: 1.261  loss_cls: 0.2829  loss_box_reg: 0.1122  loss_mask: 0.6484  loss_rpn_cls: 0.07018  loss_rpn_loc: 0.0277  time: 1.4039  data_time: 0.0106  lr: 5.4945e-05  max_mem: 4607M\n",
            "2021-10-18  14:02:12 INFO  eta: 0:57:46  iter: 239  total_loss: 1.049  loss_cls: 0.2185  loss_box_reg: 0.1477  loss_mask: 0.6263  loss_rpn_cls: 0.02687  loss_rpn_loc: 0.01321  time: 1.4074  data_time: 0.0099  lr: 5.994e-05  max_mem: 4607M\n",
            "2021-10-18  14:02:41 INFO  eta: 0:57:26  iter: 259  total_loss: 1.095  loss_cls: 0.2118  loss_box_reg: 0.2119  loss_mask: 0.5901  loss_rpn_cls: 0.0335  loss_rpn_loc: 0.01237  time: 1.4085  data_time: 0.0136  lr: 6.4935e-05  max_mem: 4607M\n",
            "2021-10-18  14:03:09 INFO  eta: 0:56:58  iter: 279  total_loss: 0.9759  loss_cls: 0.1648  loss_box_reg: 0.1161  loss_mask: 0.6202  loss_rpn_cls: 0.0368  loss_rpn_loc: 0.01058  time: 1.4076  data_time: 0.0115  lr: 6.993e-05  max_mem: 4607M\n",
            "2021-10-18  14:03:37 INFO  eta: 0:56:32  iter: 299  total_loss: 1.099  loss_cls: 0.2013  loss_box_reg: 0.1622  loss_mask: 0.5912  loss_rpn_cls: 0.01666  loss_rpn_loc: 0.01412  time: 1.4085  data_time: 0.0155  lr: 7.4925e-05  max_mem: 4608M\n",
            "2021-10-18  14:04:07 INFO  eta: 0:56:29  iter: 319  total_loss: 1.118  loss_cls: 0.1876  loss_box_reg: 0.1775  loss_mask: 0.5861  loss_rpn_cls: 0.03972  loss_rpn_loc: 0.01064  time: 1.4127  data_time: 0.0083  lr: 7.992e-05  max_mem: 4608M\n",
            "2021-10-18  14:04:36 INFO  eta: 0:56:04  iter: 339  total_loss: 0.9832  loss_cls: 0.1998  loss_box_reg: 0.1691  loss_mask: 0.5701  loss_rpn_cls: 0.02455  loss_rpn_loc: 0.01253  time: 1.4147  data_time: 0.0106  lr: 8.4915e-05  max_mem: 4613M\n",
            "2021-10-18  14:05:05 INFO  eta: 0:55:40  iter: 359  total_loss: 0.9606  loss_cls: 0.1777  loss_box_reg: 0.1444  loss_mask: 0.5498  loss_rpn_cls: 0.01654  loss_rpn_loc: 0.01709  time: 1.4173  data_time: 0.0105  lr: 8.991e-05  max_mem: 4613M\n",
            "2021-10-18  14:05:33 INFO  eta: 0:55:10  iter: 379  total_loss: 0.9323  loss_cls: 0.1805  loss_box_reg: 0.1879  loss_mask: 0.5273  loss_rpn_cls: 0.01908  loss_rpn_loc: 0.01219  time: 1.4164  data_time: 0.0122  lr: 9.4905e-05  max_mem: 4613M\n",
            "2021-10-18  14:06:02 INFO  eta: 0:54:43  iter: 399  total_loss: 1.007  loss_cls: 0.2123  loss_box_reg: 0.1879  loss_mask: 0.5158  loss_rpn_cls: 0.02491  loss_rpn_loc: 0.0158  time: 1.4192  data_time: 0.0114  lr: 9.99e-05  max_mem: 4613M\n",
            "2021-10-18  14:06:32 INFO  eta: 0:54:18  iter: 419  total_loss: 1.053  loss_cls: 0.2274  loss_box_reg: 0.1941  loss_mask: 0.5684  loss_rpn_cls: 0.02506  loss_rpn_loc: 0.02157  time: 1.4229  data_time: 0.0119  lr: 0.0001049  max_mem: 4613M\n",
            "2021-10-18  14:07:01 INFO  eta: 0:53:48  iter: 439  total_loss: 0.9539  loss_cls: 0.1854  loss_box_reg: 0.1525  loss_mask: 0.4981  loss_rpn_cls: 0.02195  loss_rpn_loc: 0.01179  time: 1.4227  data_time: 0.0121  lr: 0.00010989  max_mem: 4613M\n",
            "2021-10-18  14:07:29 INFO  eta: 0:53:17  iter: 459  total_loss: 0.858  loss_cls: 0.1402  loss_box_reg: 0.1809  loss_mask: 0.4866  loss_rpn_cls: 0.02298  loss_rpn_loc: 0.009576  time: 1.4218  data_time: 0.0114  lr: 0.00011489  max_mem: 4613M\n",
            "2021-10-18  14:07:57 INFO  eta: 0:52:48  iter: 479  total_loss: 0.9439  loss_cls: 0.157  loss_box_reg: 0.1343  loss_mask: 0.4766  loss_rpn_cls: 0.02331  loss_rpn_loc: 0.01195  time: 1.4211  data_time: 0.0125  lr: 0.00011988  max_mem: 4613M\n",
            "2021-10-18  14:08:26 INFO  eta: 0:52:20  iter: 499  total_loss: 0.9151  loss_cls: 0.1804  loss_box_reg: 0.1736  loss_mask: 0.4751  loss_rpn_cls: 0.009129  loss_rpn_loc: 0.008125  time: 1.4221  data_time: 0.0116  lr: 0.00012488  max_mem: 4613M\n",
            "2021-10-18  14:08:55 INFO  eta: 0:51:51  iter: 519  total_loss: 0.9892  loss_cls: 0.1775  loss_box_reg: 0.165  loss_mask: 0.5012  loss_rpn_cls: 0.0497  loss_rpn_loc: 0.01179  time: 1.4227  data_time: 0.0122  lr: 0.00012987  max_mem: 4630M\n",
            "2021-10-18  14:09:23 INFO  eta: 0:51:23  iter: 539  total_loss: 0.8324  loss_cls: 0.1457  loss_box_reg: 0.1705  loss_mask: 0.4259  loss_rpn_cls: 0.01917  loss_rpn_loc: 0.006769  time: 1.4223  data_time: 0.0130  lr: 0.00013487  max_mem: 4630M\n",
            "2021-10-18  14:09:51 INFO  eta: 0:50:52  iter: 559  total_loss: 0.8685  loss_cls: 0.1679  loss_box_reg: 0.1779  loss_mask: 0.4409  loss_rpn_cls: 0.02204  loss_rpn_loc: 0.01397  time: 1.4214  data_time: 0.0110  lr: 0.00013986  max_mem: 4630M\n",
            "2021-10-18  14:10:19 INFO  eta: 0:50:23  iter: 579  total_loss: 0.9544  loss_cls: 0.1311  loss_box_reg: 0.1728  loss_mask: 0.4976  loss_rpn_cls: 0.03465  loss_rpn_loc: 0.0196  time: 1.4205  data_time: 0.0106  lr: 0.00014486  max_mem: 4630M\n",
            "2021-10-18  14:10:48 INFO  eta: 0:49:56  iter: 599  total_loss: 0.9164  loss_cls: 0.1168  loss_box_reg: 0.1549  loss_mask: 0.4424  loss_rpn_cls: 0.01233  loss_rpn_loc: 0.01177  time: 1.4217  data_time: 0.0112  lr: 0.00014985  max_mem: 4630M\n",
            "2021-10-18  14:11:16 INFO  eta: 0:49:27  iter: 619  total_loss: 0.7968  loss_cls: 0.1413  loss_box_reg: 0.1631  loss_mask: 0.4453  loss_rpn_cls: 0.02125  loss_rpn_loc: 0.01229  time: 1.4206  data_time: 0.0118  lr: 0.00015485  max_mem: 4630M\n",
            "2021-10-18  14:11:45 INFO  eta: 0:49:00  iter: 639  total_loss: 0.9857  loss_cls: 0.1457  loss_box_reg: 0.1631  loss_mask: 0.5062  loss_rpn_cls: 0.02245  loss_rpn_loc: 0.01202  time: 1.4223  data_time: 0.0128  lr: 0.00015984  max_mem: 4630M\n",
            "2021-10-18  14:12:15 INFO  eta: 0:48:34  iter: 659  total_loss: 0.9246  loss_cls: 0.1482  loss_box_reg: 0.1642  loss_mask: 0.4175  loss_rpn_cls: 0.04038  loss_rpn_loc: 0.01594  time: 1.4239  data_time: 0.0106  lr: 0.00016484  max_mem: 4630M\n",
            "2021-10-18  14:12:44 INFO  eta: 0:48:06  iter: 679  total_loss: 0.8418  loss_cls: 0.1279  loss_box_reg: 0.1711  loss_mask: 0.4497  loss_rpn_cls: 0.02443  loss_rpn_loc: 0.01323  time: 1.4249  data_time: 0.0095  lr: 0.00016983  max_mem: 4630M\n",
            "2021-10-18  14:13:13 INFO  eta: 0:47:37  iter: 699  total_loss: 0.898  loss_cls: 0.1489  loss_box_reg: 0.2137  loss_mask: 0.4445  loss_rpn_cls: 0.01648  loss_rpn_loc: 0.01268  time: 1.4259  data_time: 0.0113  lr: 0.00017483  max_mem: 4630M\n",
            "2021-10-18  14:13:42 INFO  eta: 0:47:09  iter: 719  total_loss: 0.8854  loss_cls: 0.1568  loss_box_reg: 0.1668  loss_mask: 0.4576  loss_rpn_cls: 0.02409  loss_rpn_loc: 0.01459  time: 1.4265  data_time: 0.0112  lr: 0.00017982  max_mem: 4630M\n",
            "2021-10-18  14:14:10 INFO  eta: 0:46:40  iter: 739  total_loss: 0.8436  loss_cls: 0.1351  loss_box_reg: 0.1223  loss_mask: 0.4112  loss_rpn_cls: 0.01692  loss_rpn_loc: 0.008973  time: 1.4258  data_time: 0.0105  lr: 0.00018482  max_mem: 4630M\n",
            "2021-10-18  14:14:39 INFO  eta: 0:46:12  iter: 759  total_loss: 0.8607  loss_cls: 0.1259  loss_box_reg: 0.178  loss_mask: 0.4172  loss_rpn_cls: 0.03744  loss_rpn_loc: 0.009588  time: 1.4256  data_time: 0.0115  lr: 0.00018981  max_mem: 4630M\n",
            "2021-10-18  14:15:07 INFO  eta: 0:45:43  iter: 779  total_loss: 0.7952  loss_cls: 0.1417  loss_box_reg: 0.1714  loss_mask: 0.4034  loss_rpn_cls: 0.04549  loss_rpn_loc: 0.01197  time: 1.4252  data_time: 0.0101  lr: 0.00019481  max_mem: 4630M\n",
            "2021-10-18  14:15:36 INFO  eta: 0:45:16  iter: 799  total_loss: 1.025  loss_cls: 0.1843  loss_box_reg: 0.1922  loss_mask: 0.4132  loss_rpn_cls: 0.04804  loss_rpn_loc: 0.03286  time: 1.4261  data_time: 0.0092  lr: 0.0001998  max_mem: 4630M\n",
            "2021-10-18  14:16:04 INFO  eta: 0:44:46  iter: 819  total_loss: 0.8974  loss_cls: 0.1342  loss_box_reg: 0.1864  loss_mask: 0.4219  loss_rpn_cls: 0.01579  loss_rpn_loc: 0.01548  time: 1.4257  data_time: 0.0144  lr: 0.0002048  max_mem: 4630M\n",
            "2021-10-18  14:16:33 INFO  eta: 0:44:21  iter: 839  total_loss: 0.7837  loss_cls: 0.1382  loss_box_reg: 0.143  loss_mask: 0.4752  loss_rpn_cls: 0.02079  loss_rpn_loc: 0.01224  time: 1.4262  data_time: 0.0102  lr: 0.00020979  max_mem: 4630M\n",
            "2021-10-18  14:17:03 INFO  eta: 0:43:55  iter: 859  total_loss: 0.9473  loss_cls: 0.1443  loss_box_reg: 0.2202  loss_mask: 0.4438  loss_rpn_cls: 0.01854  loss_rpn_loc: 0.00945  time: 1.4273  data_time: 0.0105  lr: 0.00021479  max_mem: 4630M\n",
            "2021-10-18  14:17:31 INFO  eta: 0:43:25  iter: 879  total_loss: 0.9012  loss_cls: 0.1208  loss_box_reg: 0.1715  loss_mask: 0.4089  loss_rpn_cls: 0.01788  loss_rpn_loc: 0.01365  time: 1.4271  data_time: 0.0101  lr: 0.00021978  max_mem: 4630M\n",
            "2021-10-18  14:18:01 INFO  eta: 0:42:59  iter: 899  total_loss: 0.8476  loss_cls: 0.1656  loss_box_reg: 0.2299  loss_mask: 0.4093  loss_rpn_cls: 0.01287  loss_rpn_loc: 0.01272  time: 1.4281  data_time: 0.0104  lr: 0.00022478  max_mem: 4630M\n",
            "2021-10-18  14:18:31 INFO  eta: 0:42:36  iter: 919  total_loss: 0.8449  loss_cls: 0.1194  loss_box_reg: 0.1433  loss_mask: 0.4504  loss_rpn_cls: 0.01877  loss_rpn_loc: 0.01133  time: 1.4297  data_time: 0.0109  lr: 0.00022977  max_mem: 4630M\n",
            "2021-10-18  14:19:00 INFO  eta: 0:42:08  iter: 939  total_loss: 0.8798  loss_cls: 0.1368  loss_box_reg: 0.1507  loss_mask: 0.4804  loss_rpn_cls: 0.02896  loss_rpn_loc: 0.0131  time: 1.4304  data_time: 0.0101  lr: 0.00023477  max_mem: 4774M\n",
            "2021-10-18  14:19:30 INFO  eta: 0:41:42  iter: 959  total_loss: 0.8396  loss_cls: 0.1474  loss_box_reg: 0.1586  loss_mask: 0.4035  loss_rpn_cls: 0.01979  loss_rpn_loc: 0.01151  time: 1.4317  data_time: 0.0090  lr: 0.00023976  max_mem: 4774M\n",
            "2021-10-18  14:19:59 INFO  eta: 0:41:14  iter: 979  total_loss: 0.9381  loss_cls: 0.1819  loss_box_reg: 0.2202  loss_mask: 0.4486  loss_rpn_cls: 0.02592  loss_rpn_loc: 0.01632  time: 1.4325  data_time: 0.0119  lr: 0.00024476  max_mem: 4774M\n",
            "2021-10-18  14:20:28 INFO  eta: 0:40:49  iter: 999  total_loss: 0.8839  loss_cls: 0.1501  loss_box_reg: 0.1598  loss_mask: 0.4622  loss_rpn_cls: 0.02501  loss_rpn_loc: 0.01326  time: 1.4329  data_time: 0.0108  lr: 0.00024975  max_mem: 4774M\n",
            "2021-10-18  14:20:58 INFO  eta: 0:40:25  iter: 1019  total_loss: 0.7969  loss_cls: 0.1142  loss_box_reg: 0.1671  loss_mask: 0.4663  loss_rpn_cls: 0.02068  loss_rpn_loc: 0.00957  time: 1.4343  data_time: 0.0117  lr: 0.00025  max_mem: 4774M\n",
            "2021-10-18  14:21:26 INFO  eta: 0:39:58  iter: 1039  total_loss: 0.7086  loss_cls: 0.09966  loss_box_reg: 0.154  loss_mask: 0.3588  loss_rpn_cls: 0.02644  loss_rpn_loc: 0.008861  time: 1.4337  data_time: 0.0102  lr: 0.00025  max_mem: 4774M\n",
            "2021-10-18  14:21:56 INFO  eta: 0:39:34  iter: 1059  total_loss: 0.8705  loss_cls: 0.1311  loss_box_reg: 0.1656  loss_mask: 0.536  loss_rpn_cls: 0.01327  loss_rpn_loc: 0.0109  time: 1.4350  data_time: 0.0138  lr: 0.00025  max_mem: 4774M\n",
            "2021-10-18  14:22:27 INFO  eta: 0:39:12  iter: 1079  total_loss: 0.8702  loss_cls: 0.1617  loss_box_reg: 0.1788  loss_mask: 0.4352  loss_rpn_cls: 0.02409  loss_rpn_loc: 0.01446  time: 1.4364  data_time: 0.0115  lr: 0.00025  max_mem: 4774M\n",
            "2021-10-18  14:22:56 INFO  eta: 0:38:42  iter: 1099  total_loss: 0.8304  loss_cls: 0.1095  loss_box_reg: 0.1875  loss_mask: 0.4371  loss_rpn_cls: 0.01197  loss_rpn_loc: 0.01363  time: 1.4369  data_time: 0.0091  lr: 0.00025  max_mem: 4774M\n",
            "2021-10-18  14:23:25 INFO  eta: 0:38:15  iter: 1119  total_loss: 0.8509  loss_cls: 0.154  loss_box_reg: 0.2274  loss_mask: 0.4065  loss_rpn_cls: 0.02165  loss_rpn_loc: 0.01179  time: 1.4373  data_time: 0.0131  lr: 0.00025  max_mem: 4774M\n",
            "2021-10-18  14:23:55 INFO  eta: 0:37:48  iter: 1139  total_loss: 0.7595  loss_cls: 0.1143  loss_box_reg: 0.175  loss_mask: 0.3808  loss_rpn_cls: 0.0128  loss_rpn_loc: 0.0134  time: 1.4380  data_time: 0.0109  lr: 0.00025  max_mem: 4774M\n",
            "2021-10-18  14:24:23 INFO  eta: 0:37:17  iter: 1159  total_loss: 0.5729  loss_cls: 0.07736  loss_box_reg: 0.1324  loss_mask: 0.3127  loss_rpn_cls: 0.01667  loss_rpn_loc: 0.009191  time: 1.4373  data_time: 0.0103  lr: 0.00025  max_mem: 4774M\n",
            "2021-10-18  14:24:52 INFO  eta: 0:36:48  iter: 1179  total_loss: 0.8437  loss_cls: 0.1273  loss_box_reg: 0.1802  loss_mask: 0.4267  loss_rpn_cls: 0.01613  loss_rpn_loc: 0.01164  time: 1.4379  data_time: 0.0125  lr: 0.00025  max_mem: 4774M\n",
            "2021-10-18  14:25:22 INFO  eta: 0:36:22  iter: 1199  total_loss: 0.7678  loss_cls: 0.1036  loss_box_reg: 0.113  loss_mask: 0.4117  loss_rpn_cls: 0.0306  loss_rpn_loc: 0.01008  time: 1.4389  data_time: 0.0118  lr: 0.00025  max_mem: 4774M\n",
            "2021-10-18  14:25:51 INFO  eta: 0:35:56  iter: 1219  total_loss: 0.8492  loss_cls: 0.1088  loss_box_reg: 0.1532  loss_mask: 0.4385  loss_rpn_cls: 0.01943  loss_rpn_loc: 0.01252  time: 1.4392  data_time: 0.0122  lr: 0.00025  max_mem: 4774M\n",
            "2021-10-18  14:26:20 INFO  eta: 0:35:27  iter: 1239  total_loss: 0.8706  loss_cls: 0.0973  loss_box_reg: 0.1225  loss_mask: 0.4036  loss_rpn_cls: 0.02542  loss_rpn_loc: 0.01005  time: 1.4393  data_time: 0.0116  lr: 0.00025  max_mem: 4774M\n",
            "2021-10-18  14:26:50 INFO  eta: 0:35:01  iter: 1259  total_loss: 0.7961  loss_cls: 0.1169  loss_box_reg: 0.189  loss_mask: 0.4048  loss_rpn_cls: 0.02447  loss_rpn_loc: 0.0146  time: 1.4399  data_time: 0.0138  lr: 0.00025  max_mem: 4774M\n",
            "2021-10-18  14:27:19 INFO  eta: 0:34:34  iter: 1279  total_loss: 0.8123  loss_cls: 0.1151  loss_box_reg: 0.1598  loss_mask: 0.4497  loss_rpn_cls: 0.0164  loss_rpn_loc: 0.0141  time: 1.4402  data_time: 0.0117  lr: 0.00025  max_mem: 4774M\n",
            "2021-10-18  14:27:49 INFO  eta: 0:34:07  iter: 1299  total_loss: 0.8191  loss_cls: 0.1041  loss_box_reg: 0.1358  loss_mask: 0.4073  loss_rpn_cls: 0.01267  loss_rpn_loc: 0.01696  time: 1.4414  data_time: 0.0120  lr: 0.00025  max_mem: 4774M\n",
            "2021-10-18  14:28:18 INFO  eta: 0:33:37  iter: 1319  total_loss: 0.8898  loss_cls: 0.1495  loss_box_reg: 0.1307  loss_mask: 0.4786  loss_rpn_cls: 0.03312  loss_rpn_loc: 0.01554  time: 1.4410  data_time: 0.0095  lr: 0.00025  max_mem: 4774M\n",
            "2021-10-18  14:28:47 INFO  eta: 0:33:05  iter: 1339  total_loss: 0.7854  loss_cls: 0.1021  loss_box_reg: 0.1465  loss_mask: 0.3751  loss_rpn_cls: 0.01085  loss_rpn_loc: 0.01393  time: 1.4412  data_time: 0.0104  lr: 0.00025  max_mem: 4774M\n",
            "2021-10-18  14:29:16 INFO  eta: 0:32:36  iter: 1359  total_loss: 0.8796  loss_cls: 0.1202  loss_box_reg: 0.1775  loss_mask: 0.4121  loss_rpn_cls: 0.01847  loss_rpn_loc: 0.0123  time: 1.4414  data_time: 0.0107  lr: 0.00025  max_mem: 4774M\n",
            "2021-10-18  14:29:46 INFO  eta: 0:32:10  iter: 1379  total_loss: 0.8673  loss_cls: 0.119  loss_box_reg: 0.118  loss_mask: 0.3949  loss_rpn_cls: 0.02595  loss_rpn_loc: 0.0194  time: 1.4421  data_time: 0.0114  lr: 0.00025  max_mem: 4774M\n",
            "2021-10-18  14:30:15 INFO  eta: 0:31:40  iter: 1399  total_loss: 0.8264  loss_cls: 0.1291  loss_box_reg: 0.1917  loss_mask: 0.4192  loss_rpn_cls: 0.01391  loss_rpn_loc: 0.0144  time: 1.4422  data_time: 0.0110  lr: 0.00025  max_mem: 4774M\n",
            "2021-10-18  14:30:45 INFO  eta: 0:31:10  iter: 1419  total_loss: 0.8413  loss_cls: 0.1305  loss_box_reg: 0.1581  loss_mask: 0.4188  loss_rpn_cls: 0.02523  loss_rpn_loc: 0.01582  time: 1.4430  data_time: 0.0099  lr: 0.00025  max_mem: 4774M\n",
            "2021-10-18  14:31:14 INFO  eta: 0:30:42  iter: 1439  total_loss: 0.7776  loss_cls: 0.1203  loss_box_reg: 0.1348  loss_mask: 0.44  loss_rpn_cls: 0.02091  loss_rpn_loc: 0.01526  time: 1.4432  data_time: 0.0107  lr: 0.00025  max_mem: 4774M\n",
            "2021-10-18  14:31:44 INFO  eta: 0:30:15  iter: 1459  total_loss: 0.6545  loss_cls: 0.08578  loss_box_reg: 0.112  loss_mask: 0.4065  loss_rpn_cls: 0.01668  loss_rpn_loc: 0.007798  time: 1.4438  data_time: 0.0104  lr: 0.00025  max_mem: 4774M\n",
            "2021-10-18  14:32:13 INFO  eta: 0:29:46  iter: 1479  total_loss: 0.8142  loss_cls: 0.1243  loss_box_reg: 0.1654  loss_mask: 0.4127  loss_rpn_cls: 0.02018  loss_rpn_loc: 0.01403  time: 1.4441  data_time: 0.0107  lr: 0.00025  max_mem: 4774M\n",
            "2021-10-18  14:32:42 INFO  eta: 0:29:17  iter: 1499  total_loss: 0.6284  loss_cls: 0.07242  loss_box_reg: 0.1028  loss_mask: 0.4235  loss_rpn_cls: 0.01812  loss_rpn_loc: 0.01056  time: 1.4445  data_time: 0.0126  lr: 0.00025  max_mem: 4774M\n",
            "2021-10-18  14:33:12 INFO  eta: 0:28:50  iter: 1519  total_loss: 0.9042  loss_cls: 0.1158  loss_box_reg: 0.167  loss_mask: 0.4512  loss_rpn_cls: 0.0164  loss_rpn_loc: 0.01337  time: 1.4451  data_time: 0.0115  lr: 0.00025  max_mem: 4774M\n",
            "2021-10-18  14:33:42 INFO  eta: 0:28:22  iter: 1539  total_loss: 0.7409  loss_cls: 0.1106  loss_box_reg: 0.1513  loss_mask: 0.4169  loss_rpn_cls: 0.01372  loss_rpn_loc: 0.01161  time: 1.4456  data_time: 0.0114  lr: 0.00025  max_mem: 4774M\n",
            "2021-10-18  14:34:12 INFO  eta: 0:27:55  iter: 1559  total_loss: 0.6332  loss_cls: 0.1081  loss_box_reg: 0.1493  loss_mask: 0.3926  loss_rpn_cls: 0.01932  loss_rpn_loc: 0.01435  time: 1.4463  data_time: 0.0095  lr: 0.00025  max_mem: 4774M\n",
            "2021-10-18  14:34:41 INFO  eta: 0:27:26  iter: 1579  total_loss: 0.9342  loss_cls: 0.1319  loss_box_reg: 0.1428  loss_mask: 0.4235  loss_rpn_cls: 0.01896  loss_rpn_loc: 0.01739  time: 1.4463  data_time: 0.0115  lr: 0.00025  max_mem: 4774M\n",
            "2021-10-18  14:35:10 INFO  eta: 0:26:57  iter: 1599  total_loss: 0.7568  loss_cls: 0.1005  loss_box_reg: 0.1222  loss_mask: 0.3903  loss_rpn_cls: 0.02302  loss_rpn_loc: 0.01375  time: 1.4463  data_time: 0.0099  lr: 0.00025  max_mem: 4774M\n",
            "2021-10-18  14:35:38 INFO  eta: 0:26:27  iter: 1619  total_loss: 0.7419  loss_cls: 0.09419  loss_box_reg: 0.1282  loss_mask: 0.4004  loss_rpn_cls: 0.01316  loss_rpn_loc: 0.0128  time: 1.4455  data_time: 0.0140  lr: 0.00025  max_mem: 4774M\n",
            "2021-10-18  14:36:07 INFO  eta: 0:25:57  iter: 1639  total_loss: 0.8333  loss_cls: 0.1597  loss_box_reg: 0.2074  loss_mask: 0.3853  loss_rpn_cls: 0.02089  loss_rpn_loc: 0.02079  time: 1.4461  data_time: 0.0144  lr: 0.00025  max_mem: 4774M\n",
            "2021-10-18  14:36:35 INFO  eta: 0:25:24  iter: 1659  total_loss: 0.57  loss_cls: 0.07835  loss_box_reg: 0.08839  loss_mask: 0.3814  loss_rpn_cls: 0.008202  loss_rpn_loc: 0.008226  time: 1.4454  data_time: 0.0119  lr: 0.00025  max_mem: 4774M\n",
            "2021-10-18  14:37:04 INFO  eta: 0:24:54  iter: 1679  total_loss: 0.7961  loss_cls: 0.1134  loss_box_reg: 0.1566  loss_mask: 0.3827  loss_rpn_cls: 0.008336  loss_rpn_loc: 0.01035  time: 1.4452  data_time: 0.0101  lr: 0.00025  max_mem: 4774M\n",
            "2021-10-18  14:37:34 INFO  eta: 0:24:25  iter: 1699  total_loss: 0.7989  loss_cls: 0.128  loss_box_reg: 0.1659  loss_mask: 0.4156  loss_rpn_cls: 0.0213  loss_rpn_loc: 0.01395  time: 1.4457  data_time: 0.0108  lr: 0.00025  max_mem: 4774M\n",
            "2021-10-18  14:38:01 INFO  eta: 0:23:55  iter: 1719  total_loss: 0.7386  loss_cls: 0.1085  loss_box_reg: 0.1412  loss_mask: 0.3264  loss_rpn_cls: 0.009807  loss_rpn_loc: 0.01237  time: 1.4449  data_time: 0.0100  lr: 0.00025  max_mem: 4774M\n",
            "2021-10-18  14:38:30 INFO  eta: 0:23:26  iter: 1739  total_loss: 0.7455  loss_cls: 0.119  loss_box_reg: 0.1146  loss_mask: 0.4021  loss_rpn_cls: 0.02472  loss_rpn_loc: 0.01093  time: 1.4451  data_time: 0.0108  lr: 0.00025  max_mem: 4774M\n",
            "2021-10-18  14:38:59 INFO  eta: 0:22:58  iter: 1759  total_loss: 0.758  loss_cls: 0.1436  loss_box_reg: 0.1198  loss_mask: 0.3929  loss_rpn_cls: 0.02032  loss_rpn_loc: 0.01086  time: 1.4446  data_time: 0.0118  lr: 0.00025  max_mem: 4774M\n",
            "2021-10-18  14:39:27 INFO  eta: 0:22:28  iter: 1779  total_loss: 0.8154  loss_cls: 0.1419  loss_box_reg: 0.1237  loss_mask: 0.4427  loss_rpn_cls: 0.04  loss_rpn_loc: 0.01294  time: 1.4446  data_time: 0.0121  lr: 0.00025  max_mem: 4774M\n",
            "2021-10-18  14:39:56 INFO  eta: 0:21:59  iter: 1799  total_loss: 0.7499  loss_cls: 0.1109  loss_box_reg: 0.1053  loss_mask: 0.3899  loss_rpn_cls: 0.02359  loss_rpn_loc: 0.009914  time: 1.4443  data_time: 0.0102  lr: 0.00025  max_mem: 4774M\n",
            "2021-10-18  14:40:26 INFO  eta: 0:21:31  iter: 1819  total_loss: 0.7355  loss_cls: 0.115  loss_box_reg: 0.1302  loss_mask: 0.3468  loss_rpn_cls: 0.02052  loss_rpn_loc: 0.01323  time: 1.4448  data_time: 0.0101  lr: 0.00025  max_mem: 4774M\n",
            "2021-10-18  14:40:55 INFO  eta: 0:21:00  iter: 1839  total_loss: 0.8264  loss_cls: 0.1099  loss_box_reg: 0.09814  loss_mask: 0.3818  loss_rpn_cls: 0.03013  loss_rpn_loc: 0.01267  time: 1.4450  data_time: 0.0096  lr: 0.00025  max_mem: 4774M\n",
            "2021-10-18  14:41:24 INFO  eta: 0:20:31  iter: 1859  total_loss: 0.8085  loss_cls: 0.1203  loss_box_reg: 0.1496  loss_mask: 0.4108  loss_rpn_cls: 0.01878  loss_rpn_loc: 0.009636  time: 1.4453  data_time: 0.0107  lr: 0.00025  max_mem: 4774M\n",
            "2021-10-18  14:41:53 INFO  eta: 0:20:03  iter: 1879  total_loss: 0.7058  loss_cls: 0.1096  loss_box_reg: 0.1156  loss_mask: 0.4091  loss_rpn_cls: 0.01555  loss_rpn_loc: 0.009342  time: 1.4452  data_time: 0.0114  lr: 0.00025  max_mem: 4774M\n",
            "2021-10-18  14:42:21 INFO  eta: 0:19:32  iter: 1899  total_loss: 0.7845  loss_cls: 0.08578  loss_box_reg: 0.1195  loss_mask: 0.4274  loss_rpn_cls: 0.01632  loss_rpn_loc: 0.01421  time: 1.4447  data_time: 0.0095  lr: 0.00025  max_mem: 4774M\n",
            "2021-10-18  14:42:50 INFO  eta: 0:19:02  iter: 1919  total_loss: 0.6127  loss_cls: 0.06735  loss_box_reg: 0.09698  loss_mask: 0.401  loss_rpn_cls: 0.01676  loss_rpn_loc: 0.02046  time: 1.4448  data_time: 0.0092  lr: 0.00025  max_mem: 4774M\n",
            "2021-10-18  14:43:20 INFO  eta: 0:18:33  iter: 1939  total_loss: 0.7076  loss_cls: 0.09552  loss_box_reg: 0.1049  loss_mask: 0.449  loss_rpn_cls: 0.01525  loss_rpn_loc: 0.00912  time: 1.4450  data_time: 0.0101  lr: 0.00025  max_mem: 4774M\n",
            "2021-10-18  14:43:48 INFO  eta: 0:18:03  iter: 1959  total_loss: 0.814  loss_cls: 0.1151  loss_box_reg: 0.172  loss_mask: 0.4001  loss_rpn_cls: 0.01346  loss_rpn_loc: 0.01629  time: 1.4449  data_time: 0.0088  lr: 0.00025  max_mem: 4774M\n",
            "2021-10-18  14:44:17 INFO  eta: 0:17:33  iter: 1979  total_loss: 0.7741  loss_cls: 0.1195  loss_box_reg: 0.1465  loss_mask: 0.4319  loss_rpn_cls: 0.01885  loss_rpn_loc: 0.01279  time: 1.4449  data_time: 0.0093  lr: 0.00025  max_mem: 4774M\n",
            "2021-10-18  14:44:45 INFO  eta: 0:17:03  iter: 1999  total_loss: 0.9284  loss_cls: 0.1082  loss_box_reg: 0.1226  loss_mask: 0.5035  loss_rpn_cls: 0.03621  loss_rpn_loc: 0.02553  time: 1.4445  data_time: 0.0114  lr: 0.00025  max_mem: 4774M\n",
            "2021-10-18  14:45:15 INFO  eta: 0:16:34  iter: 2019  total_loss: 0.6921  loss_cls: 0.1024  loss_box_reg: 0.11  loss_mask: 0.4194  loss_rpn_cls: 0.01507  loss_rpn_loc: 0.01201  time: 1.4449  data_time: 0.0110  lr: 0.00025  max_mem: 4774M\n",
            "2021-10-18  14:45:44 INFO  eta: 0:16:04  iter: 2039  total_loss: 0.7687  loss_cls: 0.138  loss_box_reg: 0.1611  loss_mask: 0.3685  loss_rpn_cls: 0.02077  loss_rpn_loc: 0.01079  time: 1.4450  data_time: 0.0088  lr: 0.00025  max_mem: 4774M\n",
            "2021-10-18  14:46:14 INFO  eta: 0:15:35  iter: 2059  total_loss: 0.7615  loss_cls: 0.1364  loss_box_reg: 0.1562  loss_mask: 0.4394  loss_rpn_cls: 0.01767  loss_rpn_loc: 0.01162  time: 1.4456  data_time: 0.0104  lr: 0.00025  max_mem: 4774M\n",
            "2021-10-18  14:46:44 INFO  eta: 0:15:05  iter: 2079  total_loss: 0.8526  loss_cls: 0.1494  loss_box_reg: 0.1783  loss_mask: 0.4768  loss_rpn_cls: 0.01341  loss_rpn_loc: 0.01323  time: 1.4461  data_time: 0.0117  lr: 0.00025  max_mem: 4774M\n",
            "2021-10-18  14:47:13 INFO  eta: 0:14:36  iter: 2099  total_loss: 0.7264  loss_cls: 0.1014  loss_box_reg: 0.1312  loss_mask: 0.4368  loss_rpn_cls: 0.01552  loss_rpn_loc: 0.01011  time: 1.4461  data_time: 0.0115  lr: 0.00025  max_mem: 4774M\n",
            "2021-10-18  14:47:41 INFO  eta: 0:14:07  iter: 2119  total_loss: 0.719  loss_cls: 0.1254  loss_box_reg: 0.1123  loss_mask: 0.3936  loss_rpn_cls: 0.01641  loss_rpn_loc: 0.009686  time: 1.4457  data_time: 0.0132  lr: 0.00025  max_mem: 4774M\n",
            "2021-10-18  14:48:11 INFO  eta: 0:13:38  iter: 2139  total_loss: 0.8074  loss_cls: 0.1278  loss_box_reg: 0.1708  loss_mask: 0.4419  loss_rpn_cls: 0.01645  loss_rpn_loc: 0.00982  time: 1.4463  data_time: 0.0134  lr: 0.00025  max_mem: 4774M\n",
            "2021-10-18  14:48:40 INFO  eta: 0:13:09  iter: 2159  total_loss: 0.6186  loss_cls: 0.1005  loss_box_reg: 0.09489  loss_mask: 0.3777  loss_rpn_cls: 0.008506  loss_rpn_loc: 0.01107  time: 1.4463  data_time: 0.0102  lr: 0.00025  max_mem: 4774M\n",
            "2021-10-18  14:49:10 INFO  eta: 0:12:40  iter: 2179  total_loss: 0.8593  loss_cls: 0.1216  loss_box_reg: 0.1117  loss_mask: 0.5165  loss_rpn_cls: 0.03035  loss_rpn_loc: 0.01748  time: 1.4468  data_time: 0.0121  lr: 0.00025  max_mem: 4774M\n",
            "2021-10-18  14:49:39 INFO  eta: 0:12:10  iter: 2199  total_loss: 0.9668  loss_cls: 0.174  loss_box_reg: 0.1898  loss_mask: 0.4214  loss_rpn_cls: 0.0258  loss_rpn_loc: 0.01691  time: 1.4468  data_time: 0.0132  lr: 0.00025  max_mem: 4774M\n",
            "2021-10-18  14:50:08 INFO  eta: 0:11:41  iter: 2219  total_loss: 0.5804  loss_cls: 0.07408  loss_box_reg: 0.1198  loss_mask: 0.337  loss_rpn_cls: 0.02113  loss_rpn_loc: 0.01005  time: 1.4466  data_time: 0.0104  lr: 0.00025  max_mem: 4774M\n",
            "2021-10-18  14:50:37 INFO  eta: 0:11:11  iter: 2239  total_loss: 0.7661  loss_cls: 0.1039  loss_box_reg: 0.09867  loss_mask: 0.4536  loss_rpn_cls: 0.02202  loss_rpn_loc: 0.01664  time: 1.4468  data_time: 0.0113  lr: 0.00025  max_mem: 4774M\n",
            "2021-10-18  14:51:07 INFO  eta: 0:10:42  iter: 2259  total_loss: 0.7799  loss_cls: 0.1336  loss_box_reg: 0.1316  loss_mask: 0.4255  loss_rpn_cls: 0.03206  loss_rpn_loc: 0.01763  time: 1.4470  data_time: 0.0110  lr: 0.00025  max_mem: 4774M\n",
            "2021-10-18  14:51:35 INFO  eta: 0:10:13  iter: 2279  total_loss: 0.5646  loss_cls: 0.08168  loss_box_reg: 0.1112  loss_mask: 0.3296  loss_rpn_cls: 0.02077  loss_rpn_loc: 0.01039  time: 1.4467  data_time: 0.0106  lr: 0.00025  max_mem: 4774M\n",
            "2021-10-18  14:52:05 INFO  eta: 0:09:43  iter: 2299  total_loss: 0.6815  loss_cls: 0.0853  loss_box_reg: 0.08932  loss_mask: 0.3742  loss_rpn_cls: 0.01903  loss_rpn_loc: 0.01222  time: 1.4470  data_time: 0.0121  lr: 0.00025  max_mem: 4774M\n",
            "2021-10-18  14:52:33 INFO  eta: 0:09:14  iter: 2319  total_loss: 0.7192  loss_cls: 0.09925  loss_box_reg: 0.1764  loss_mask: 0.3713  loss_rpn_cls: 0.0142  loss_rpn_loc: 0.01215  time: 1.4467  data_time: 0.0095  lr: 0.00025  max_mem: 4774M\n",
            "2021-10-18  14:53:03 INFO  eta: 0:08:45  iter: 2339  total_loss: 0.7326  loss_cls: 0.1201  loss_box_reg: 0.1352  loss_mask: 0.3967  loss_rpn_cls: 0.01286  loss_rpn_loc: 0.01025  time: 1.4472  data_time: 0.0109  lr: 0.00025  max_mem: 4774M\n",
            "2021-10-18  14:53:33 INFO  eta: 0:08:17  iter: 2359  total_loss: 0.7719  loss_cls: 0.1273  loss_box_reg: 0.1542  loss_mask: 0.3556  loss_rpn_cls: 0.01671  loss_rpn_loc: 0.009822  time: 1.4478  data_time: 0.0097  lr: 0.00025  max_mem: 4774M\n",
            "2021-10-18  14:54:02 INFO  eta: 0:07:47  iter: 2379  total_loss: 0.7584  loss_cls: 0.1235  loss_box_reg: 0.1225  loss_mask: 0.4293  loss_rpn_cls: 0.02239  loss_rpn_loc: 0.01135  time: 1.4477  data_time: 0.0128  lr: 0.00025  max_mem: 4774M\n",
            "2021-10-18  14:54:32 INFO  eta: 0:07:18  iter: 2399  total_loss: 0.7443  loss_cls: 0.1114  loss_box_reg: 0.1204  loss_mask: 0.4066  loss_rpn_cls: 0.01683  loss_rpn_loc: 0.01341  time: 1.4479  data_time: 0.0098  lr: 0.00025  max_mem: 4774M\n",
            "2021-10-18  14:55:00 INFO  eta: 0:06:49  iter: 2419  total_loss: 0.7396  loss_cls: 0.1146  loss_box_reg: 0.1092  loss_mask: 0.394  loss_rpn_cls: 0.01216  loss_rpn_loc: 0.009531  time: 1.4476  data_time: 0.0114  lr: 0.00025  max_mem: 4774M\n",
            "2021-10-18  14:55:28 INFO  eta: 0:06:19  iter: 2439  total_loss: 0.7093  loss_cls: 0.09529  loss_box_reg: 0.1445  loss_mask: 0.3449  loss_rpn_cls: 0.01291  loss_rpn_loc: 0.01044  time: 1.4473  data_time: 0.0098  lr: 0.00025  max_mem: 4774M\n",
            "2021-10-18  14:55:58 INFO  eta: 0:05:50  iter: 2459  total_loss: 0.7832  loss_cls: 0.1193  loss_box_reg: 0.1425  loss_mask: 0.4215  loss_rpn_cls: 0.01439  loss_rpn_loc: 0.01111  time: 1.4475  data_time: 0.0125  lr: 0.00025  max_mem: 4774M\n",
            "2021-10-18  14:56:27 INFO  eta: 0:05:21  iter: 2479  total_loss: 0.6355  loss_cls: 0.1054  loss_box_reg: 0.1123  loss_mask: 0.383  loss_rpn_cls: 0.01605  loss_rpn_loc: 0.01516  time: 1.4477  data_time: 0.0100  lr: 0.00025  max_mem: 4774M\n",
            "2021-10-18  14:56:56 INFO  eta: 0:04:52  iter: 2499  total_loss: 0.7285  loss_cls: 0.1065  loss_box_reg: 0.1359  loss_mask: 0.439  loss_rpn_cls: 0.01762  loss_rpn_loc: 0.01045  time: 1.4478  data_time: 0.0112  lr: 0.00025  max_mem: 4774M\n",
            "2021-10-18  14:57:25 INFO  eta: 0:04:22  iter: 2519  total_loss: 0.5931  loss_cls: 0.1001  loss_box_reg: 0.1129  loss_mask: 0.343  loss_rpn_cls: 0.01287  loss_rpn_loc: 0.007913  time: 1.4476  data_time: 0.0126  lr: 0.00025  max_mem: 4774M\n",
            "2021-10-18  14:57:53 INFO  eta: 0:03:53  iter: 2539  total_loss: 0.6782  loss_cls: 0.09679  loss_box_reg: 0.09756  loss_mask: 0.3765  loss_rpn_cls: 0.03121  loss_rpn_loc: 0.01191  time: 1.4473  data_time: 0.0088  lr: 0.00025  max_mem: 4774M\n",
            "2021-10-18  14:58:22 INFO  eta: 0:03:24  iter: 2559  total_loss: 0.6519  loss_cls: 0.1054  loss_box_reg: 0.1276  loss_mask: 0.329  loss_rpn_cls: 0.01239  loss_rpn_loc: 0.01066  time: 1.4476  data_time: 0.0143  lr: 0.00025  max_mem: 4774M\n",
            "2021-10-18  14:58:52 INFO  eta: 0:02:54  iter: 2579  total_loss: 0.7025  loss_cls: 0.1072  loss_box_reg: 0.1116  loss_mask: 0.4587  loss_rpn_cls: 0.01209  loss_rpn_loc: 0.01329  time: 1.4476  data_time: 0.0091  lr: 0.00025  max_mem: 4774M\n",
            "2021-10-18  14:59:20 INFO  eta: 0:02:25  iter: 2599  total_loss: 0.6375  loss_cls: 0.1246  loss_box_reg: 0.1277  loss_mask: 0.3731  loss_rpn_cls: 0.01264  loss_rpn_loc: 0.01226  time: 1.4476  data_time: 0.0116  lr: 0.00025  max_mem: 4774M\n",
            "2021-10-18  14:59:50 INFO  eta: 0:01:56  iter: 2619  total_loss: 0.7285  loss_cls: 0.1228  loss_box_reg: 0.1268  loss_mask: 0.4093  loss_rpn_cls: 0.01936  loss_rpn_loc: 0.01367  time: 1.4477  data_time: 0.0112  lr: 0.00025  max_mem: 4774M\n",
            "2021-10-18  15:00:18 INFO  eta: 0:01:27  iter: 2639  total_loss: 0.8337  loss_cls: 0.1347  loss_box_reg: 0.1375  loss_mask: 0.4602  loss_rpn_cls: 0.01445  loss_rpn_loc: 0.01378  time: 1.4475  data_time: 0.0104  lr: 0.00025  max_mem: 4774M\n",
            "2021-10-18  15:00:47 INFO  eta: 0:00:58  iter: 2659  total_loss: 0.8886  loss_cls: 0.1446  loss_box_reg: 0.1602  loss_mask: 0.4517  loss_rpn_cls: 0.0206  loss_rpn_loc: 0.0119  time: 1.4475  data_time: 0.0129  lr: 0.00025  max_mem: 4774M\n",
            "2021-10-18  15:01:16 INFO  eta: 0:00:29  iter: 2679  total_loss: 0.7421  loss_cls: 0.1423  loss_box_reg: 0.1241  loss_mask: 0.3914  loss_rpn_cls: 0.01496  loss_rpn_loc: 0.01325  time: 1.4475  data_time: 0.0098  lr: 0.00025  max_mem: 4774M\n",
            "2021-10-18  15:01:45 INFO Saving checkpoint to ./output/model_final.pth\n",
            "2021-10-18  15:01:45 INFO  eta: 0:00:00  iter: 2699  total_loss: 0.7434  loss_cls: 0.1328  loss_box_reg: 0.1363  loss_mask: 0.4257  loss_rpn_cls: 0.01735  loss_rpn_loc: 0.01258  time: 1.4474  data_time: 0.0115  lr: 0.00025  max_mem: 4774M\n",
            "2021-10-18  15:01:46 INFO Overall training speed: 2698 iterations in 1:05:05 (1.4474 s / it)\n",
            "2021-10-18  15:01:46 INFO Total training time: 1:05:08 (0:00:03 on hooks)\n"
          ]
        }
      ]
    },
    {
      "cell_type": "code",
      "metadata": {
        "id": "HgXQveJmhb3z"
      },
      "source": [
        "!cp output/model_final.pth output/trained_model.pth"
      ],
      "execution_count": 55,
      "outputs": []
    }
  ]
}