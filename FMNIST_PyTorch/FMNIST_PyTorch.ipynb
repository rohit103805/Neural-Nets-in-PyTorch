{
  "nbformat": 4,
  "nbformat_minor": 0,
  "metadata": {
    "orig_nbformat": 4,
    "language_info": {
      "name": "python",
      "version": "3.8.8",
      "mimetype": "text/x-python",
      "codemirror_mode": {
        "name": "ipython",
        "version": 3
      },
      "pygments_lexer": "ipython3",
      "nbconvert_exporter": "python",
      "file_extension": ".py"
    },
    "kernelspec": {
      "name": "python3",
      "display_name": "Python 3.8.8 64-bit"
    },
    "interpreter": {
      "hash": "dc106fe3c02396f33534c61e51628a7be9a935337a06f05fddd82b0e8d71430d"
    },
    "colab": {
      "name": "FMNIST_PyTorch.ipynb",
      "provenance": [],
      "collapsed_sections": []
    },
    "accelerator": "GPU"
  },
  "cells": [
    {
      "cell_type": "markdown",
      "metadata": {
        "id": "GWMPRcrUgrNH"
      },
      "source": [
        "## CNN Using PyTorch"
      ]
    },
    {
      "cell_type": "code",
      "metadata": {
        "colab": {
          "base_uri": "https://localhost:8080/"
        },
        "id": "SwyJFf5OjTam",
        "outputId": "1e8eee60-d060-4ebc-bf68-511c3d031055"
      },
      "source": [
        "!nvidia-smi"
      ],
      "execution_count": 1,
      "outputs": [
        {
          "output_type": "stream",
          "text": [
            "Mon Aug  2 13:21:16 2021       \n",
            "+-----------------------------------------------------------------------------+\n",
            "| NVIDIA-SMI 470.42.01    Driver Version: 460.32.03    CUDA Version: 11.2     |\n",
            "|-------------------------------+----------------------+----------------------+\n",
            "| GPU  Name        Persistence-M| Bus-Id        Disp.A | Volatile Uncorr. ECC |\n",
            "| Fan  Temp  Perf  Pwr:Usage/Cap|         Memory-Usage | GPU-Util  Compute M. |\n",
            "|                               |                      |               MIG M. |\n",
            "|===============================+======================+======================|\n",
            "|   0  Tesla T4            Off  | 00000000:00:04.0 Off |                    0 |\n",
            "| N/A   52C    P8     9W /  70W |      0MiB / 15109MiB |      0%      Default |\n",
            "|                               |                      |                  N/A |\n",
            "+-------------------------------+----------------------+----------------------+\n",
            "                                                                               \n",
            "+-----------------------------------------------------------------------------+\n",
            "| Processes:                                                                  |\n",
            "|  GPU   GI   CI        PID   Type   Process name                  GPU Memory |\n",
            "|        ID   ID                                                   Usage      |\n",
            "|=============================================================================|\n",
            "|  No running processes found                                                 |\n",
            "+-----------------------------------------------------------------------------+\n"
          ],
          "name": "stdout"
        }
      ]
    },
    {
      "cell_type": "code",
      "metadata": {
        "id": "C30p4KUGgrNL",
        "colab": {
          "base_uri": "https://localhost:8080/"
        },
        "outputId": "965529b9-dcc3-4ae4-c37d-7f95af926f52"
      },
      "source": [
        "import torch\n",
        "from torchvision import datasets\n",
        "from torch.utils.data import Dataset, DataLoader\n",
        "import torch.nn as nn\n",
        "import numpy as np\n",
        "import matplotlib.pyplot as plt\n",
        "\n",
        "data_folder='/content/'\n",
        "\n",
        "device = 'cuda' if torch.cuda.is_available() else 'cpu'\n",
        "\n",
        "fminst=datasets.FashionMNIST(data_folder, download=True, train=True)\n",
        "tr_images=fminst.data\n",
        "tr_targets=fminst.targets\n",
        "\n",
        "val_fminst=datasets.FashionMNIST(data_folder, download=True, train=False)\n",
        "val_images=val_fminst.data\n",
        "val_targets=val_fminst.targets"
      ],
      "execution_count": 2,
      "outputs": [
        {
          "output_type": "stream",
          "text": [
            "/usr/local/lib/python3.7/dist-packages/torchvision/datasets/mnist.py:498: UserWarning: The given NumPy array is not writeable, and PyTorch does not support non-writeable tensors. This means you can write to the underlying (supposedly non-writeable) NumPy array using the tensor. You may want to copy the array to protect its data or make it writeable before converting it to a tensor. This type of warning will be suppressed for the rest of this program. (Triggered internally at  /pytorch/torch/csrc/utils/tensor_numpy.cpp:180.)\n",
            "  return torch.from_numpy(parsed.astype(m[2], copy=False)).view(*s)\n"
          ],
          "name": "stderr"
        }
      ]
    },
    {
      "cell_type": "code",
      "metadata": {
        "colab": {
          "base_uri": "https://localhost:8080/"
        },
        "id": "26xa9fq-grNN",
        "outputId": "3abd522a-0984-4e28-962b-aa17d1c05004"
      },
      "source": [
        "print(tr_images.shape)\n",
        "print(val_images.shape)"
      ],
      "execution_count": 3,
      "outputs": [
        {
          "output_type": "stream",
          "text": [
            "torch.Size([60000, 28, 28])\n",
            "torch.Size([10000, 28, 28])\n"
          ],
          "name": "stdout"
        }
      ]
    },
    {
      "cell_type": "code",
      "metadata": {
        "id": "tnrK1TrCgrNN"
      },
      "source": [
        "from imgaug import augmenters as iaa\n",
        "aug = iaa.Sequential([\n",
        "    iaa.Affine(translate_px={'x':(-10,10)}, mode='constant'),\n",
        "    #iaa.Affine(rotate=30, fit_output=False, mode='constant'),\n",
        "    #iaa.Affine(scale=2, fit_output=False, mode='constant'),\n",
        "])"
      ],
      "execution_count": 4,
      "outputs": []
    },
    {
      "cell_type": "code",
      "metadata": {
        "id": "kxcZae4agrNN"
      },
      "source": [
        "class FMINST(Dataset):\n",
        "    def __init__(self, x, y, aug=None):\n",
        "        self.x=x\n",
        "        self.y=y\n",
        "        self.aug=aug\n",
        "    def __getitem__(self, ix):\n",
        "        x=self.x[ix]\n",
        "        y=self.y[ix]\n",
        "        return x, y\n",
        "    def __len__(self):\n",
        "        return len(self.x)\n",
        "    def collate_fn(self, batch):\n",
        "        ims, classes=list(zip(*batch))\n",
        "        ims=self.aug.augment_images(images=ims)\n",
        "        ims = torch.tensor(ims)[:,None,:,:].to(device)/255\n",
        "        classes = torch.tensor(classes).to(device)\n",
        "        return ims, classes"
      ],
      "execution_count": 5,
      "outputs": []
    },
    {
      "cell_type": "code",
      "metadata": {
        "id": "aDUiE2v8h9HK"
      },
      "source": [
        "from torch.optim import SGD, Adam\n",
        "def get_model():\n",
        "    model = nn.Sequential(\n",
        "        nn.Conv2d(1, 64, kernel_size=3),\n",
        "        nn.MaxPool2d(2),\n",
        "        nn.ReLU(),\n",
        "        nn.Conv2d(64, 128, kernel_size=3),\n",
        "        nn.MaxPool2d(2),\n",
        "        nn.ReLU(),\n",
        "        nn.Flatten(),\n",
        "        nn.Linear(3200, 256),\n",
        "        nn.ReLU(),\n",
        "        nn.Linear(256, 10)\n",
        "    ).to(device)\n",
        "    loss_fn = nn.CrossEntropyLoss()\n",
        "    optimizer = Adam(model.parameters(), lr=1e-3)\n",
        "    return model, loss_fn, optimizer"
      ],
      "execution_count": 6,
      "outputs": []
    },
    {
      "cell_type": "code",
      "metadata": {
        "id": "0W44_ZuegrNO"
      },
      "source": [
        "def train_batch(x, y, model, optimizer, loss_fn):\n",
        "    model.train()\n",
        "    prediction = model(x)\n",
        "    batch_loss = loss_fn(prediction, y)\n",
        "    batch_loss.backward()\n",
        "    optimizer.step()\n",
        "    optimizer.zero_grad()\n",
        "    return batch_loss.item()"
      ],
      "execution_count": 7,
      "outputs": []
    },
    {
      "cell_type": "code",
      "metadata": {
        "id": "XqpuhpuemRIf"
      },
      "source": [
        "@torch.no_grad()\n",
        "def vall_loss(x, y, model, loss_fn):\n",
        "    model.eval()\n",
        "    prediction = model(x)\n",
        "    val_loss = loss_fn(prediction, y)\n",
        "    return val_loss.item()"
      ],
      "execution_count": 8,
      "outputs": []
    },
    {
      "cell_type": "code",
      "metadata": {
        "id": "1ehjhf-rb9cE"
      },
      "source": [
        "@torch.no_grad()\n",
        "def accuracy(x, y, model):\n",
        "    model.eval()\n",
        "    prediction = model(x)\n",
        "    max_values, argmaxes = prediction.max(-1)\n",
        "    is_correct = argmaxes == y\n",
        "    return is_correct.cpu().numpy().tolist()"
      ],
      "execution_count": 9,
      "outputs": []
    },
    {
      "cell_type": "code",
      "metadata": {
        "id": "cdYZmBoGgrNO"
      },
      "source": [
        "def get_data():\n",
        "    train=FMINST(tr_images, tr_targets, aug)\n",
        "    train_dl=DataLoader(train, batch_size=64, collate_fn=train.collate_fn, shuffle=True)\n",
        "    val=FMINST(val_images, val_targets, aug)\n",
        "    val_dl=DataLoader(val, batch_size=64, collate_fn=val.collate_fn, shuffle=True)\n",
        "    return train_dl, val_dl"
      ],
      "execution_count": 10,
      "outputs": []
    },
    {
      "cell_type": "code",
      "metadata": {
        "colab": {
          "base_uri": "https://localhost:8080/"
        },
        "id": "DLtO5cOLBxOQ",
        "outputId": "48f555a5-db95-43b4-9c3b-85a88a2ed59f"
      },
      "source": [
        "!pip install torch_summary\n",
        "from torchsummary import summary\n",
        "model, loss_fn, optimizer = get_model()\n",
        "summary(model, torch.zeros(1,1,28,28));"
      ],
      "execution_count": 11,
      "outputs": [
        {
          "output_type": "stream",
          "text": [
            "Requirement already satisfied: torch_summary in /usr/local/lib/python3.7/dist-packages (1.4.5)\n",
            "==========================================================================================\n",
            "Layer (type:depth-idx)                   Output Shape              Param #\n",
            "==========================================================================================\n",
            "├─Conv2d: 1-1                            [-1, 64, 26, 26]          640\n",
            "├─MaxPool2d: 1-2                         [-1, 64, 13, 13]          --\n",
            "├─ReLU: 1-3                              [-1, 64, 13, 13]          --\n",
            "├─Conv2d: 1-4                            [-1, 128, 11, 11]         73,856\n",
            "├─MaxPool2d: 1-5                         [-1, 128, 5, 5]           --\n",
            "├─ReLU: 1-6                              [-1, 128, 5, 5]           --\n",
            "├─Flatten: 1-7                           [-1, 3200]                --\n",
            "├─Linear: 1-8                            [-1, 256]                 819,456\n",
            "├─ReLU: 1-9                              [-1, 256]                 --\n",
            "├─Linear: 1-10                           [-1, 10]                  2,570\n",
            "==========================================================================================\n",
            "Total params: 896,522\n",
            "Trainable params: 896,522\n",
            "Non-trainable params: 0\n",
            "Total mult-adds (M): 10.13\n",
            "==========================================================================================\n",
            "Input size (MB): 0.00\n",
            "Forward/backward pass size (MB): 0.45\n",
            "Params size (MB): 3.42\n",
            "Estimated Total Size (MB): 3.87\n",
            "==========================================================================================\n"
          ],
          "name": "stdout"
        },
        {
          "output_type": "stream",
          "text": [
            "/usr/local/lib/python3.7/dist-packages/torch/nn/functional.py:718: UserWarning: Named tensors and all their associated APIs are an experimental feature and subject to change. Please do not use them for anything important until they are released as stable. (Triggered internally at  /pytorch/c10/core/TensorImpl.h:1156.)\n",
            "  return torch.max_pool2d(input, kernel_size, stride, padding, dilation, ceil_mode)\n"
          ],
          "name": "stderr"
        }
      ]
    },
    {
      "cell_type": "markdown",
      "metadata": {
        "id": "HLGl1aGGgrNP"
      },
      "source": [
        "## Training the Model "
      ]
    },
    {
      "cell_type": "code",
      "metadata": {
        "colab": {
          "base_uri": "https://localhost:8080/"
        },
        "id": "-CGZxRA3hT0j",
        "outputId": "0ca3b921-39a5-4d06-a190-d3707046df77"
      },
      "source": [
        "train_loss, train_accuracy=[], [] #For training\n",
        "val_loss, val_accuracy=[], [] #For evaluation\n",
        "train_dl, val_dl = get_data()\n",
        "model, loss_fn, optimizer = get_model()\n",
        "for epoch in range(20):\n",
        "    print(epoch)\n",
        "    batch_losses_in_epoch, batch_accuracy_epoch=[], []  #For training\n",
        "    val_batch_losses_in_epoch, val_batch_accuracy_epoch=[], []  #For evaluation\n",
        "    for ix, batch in enumerate(iter(train_dl)):\n",
        "        x, y = batch\n",
        "        batch_loss = train_batch(x, y, model, optimizer, loss_fn)\n",
        "        is_correct = accuracy(x, y, model)\n",
        "        batch_losses_in_epoch.append(batch_loss)\n",
        "        batch_accuracy_epoch.extend(is_correct)\n",
        "    mean_batch_loss=np.mean(batch_losses_in_epoch)\n",
        "    epoch_accuracy=np.mean(batch_accuracy_epoch)\n",
        "    train_loss.append(mean_batch_loss)\n",
        "    train_accuracy.append(epoch_accuracy)\n",
        "\n",
        "    for ix, batch in enumerate(iter(val_dl)):\n",
        "        x, y = batch\n",
        "        val_batch_loss = vall_loss(x, y, model, loss_fn)\n",
        "        is_correct = accuracy(x, y, model)\n",
        "        val_batch_losses_in_epoch.append(val_batch_loss)\n",
        "        val_batch_accuracy_epoch.extend(is_correct)\n",
        "    mean_batch_loss=np.mean(val_batch_losses_in_epoch)\n",
        "    epoch_accuracy=np.mean(val_batch_accuracy_epoch)\n",
        "    val_loss.append(mean_batch_loss)\n",
        "    val_accuracy.append(epoch_accuracy)\n",
        "    "
      ],
      "execution_count": 12,
      "outputs": [
        {
          "output_type": "stream",
          "text": [
            "0\n",
            "1\n",
            "2\n",
            "3\n",
            "4\n",
            "5\n",
            "6\n",
            "7\n",
            "8\n",
            "9\n",
            "10\n",
            "11\n",
            "12\n",
            "13\n",
            "14\n",
            "15\n",
            "16\n",
            "17\n",
            "18\n",
            "19\n"
          ],
          "name": "stdout"
        }
      ]
    },
    {
      "cell_type": "code",
      "metadata": {
        "colab": {
          "base_uri": "https://localhost:8080/",
          "height": 295
        },
        "id": "Yy3Ol2nlrSkM",
        "outputId": "fb86bd91-7689-4495-f744-8aa82466aa2e"
      },
      "source": [
        "plt.plot(train_loss)\n",
        "plt.title('Loss variation over increasing epochs')\n",
        "plt.xlabel('epochs')\n",
        "plt.ylabel('loss value')\n",
        "plt.show()"
      ],
      "execution_count": 13,
      "outputs": [
        {
          "output_type": "display_data",
          "data": {
            "image/png": "[encoded data removed]",
            "text/plain": [
              "<Figure size 432x288 with 1 Axes>"
            ]
          },
          "metadata": {
            "tags": [],
            "needs_background": "light"
          }
        }
      ]
    },
    {
      "cell_type": "code",
      "metadata": {
        "colab": {
          "base_uri": "https://localhost:8080/",
          "height": 295
        },
        "id": "iQOZQ4cYeBGj",
        "outputId": "4022fae4-0514-4e80-9d26-e2a9598725af"
      },
      "source": [
        "plt.plot(train_accuracy)\n",
        "plt.title('Accuracy variation over increasing epochs')\n",
        "plt.xlabel('epochs')\n",
        "plt.ylabel('Accuracy value')\n",
        "plt.show()"
      ],
      "execution_count": 14,
      "outputs": [
        {
          "output_type": "display_data",
          "data": {
            "image/png": "[encoded data removed]",
            "text/plain": [
              "<Figure size 432x288 with 1 Axes>"
            ]
          },
          "metadata": {
            "tags": [],
            "needs_background": "light"
          }
        }
      ]
    },
    {
      "cell_type": "code",
      "metadata": {
        "colab": {
          "base_uri": "https://localhost:8080/",
          "height": 295
        },
        "id": "OWXhiK6Tnfdr",
        "outputId": "f7d657a6-4d02-48fe-c823-59ae6f6cebf8"
      },
      "source": [
        "plt.plot(val_loss)\n",
        "plt.title('Loss variation over increasing epochs')\n",
        "plt.xlabel('epochs')\n",
        "plt.ylabel('loss value')\n",
        "plt.show()"
      ],
      "execution_count": 15,
      "outputs": [
        {
          "output_type": "display_data",
          "data": {
            "image/png": "[encoded data removed]",
            "text/plain": [
              "<Figure size 432x288 with 1 Axes>"
            ]
          },
          "metadata": {
            "tags": [],
            "needs_background": "light"
          }
        }
      ]
    },
    {
      "cell_type": "code",
      "metadata": {
        "colab": {
          "base_uri": "https://localhost:8080/",
          "height": 295
        },
        "id": "sf5lpBHEnfzG",
        "outputId": "3168e902-4662-415a-a983-3f7d5a035491"
      },
      "source": [
        "plt.plot(val_accuracy)\n",
        "plt.title('Accuracy variation over increasing epochs')\n",
        "plt.xlabel('epochs')\n",
        "plt.ylabel('Accuracy value')\n",
        "plt.show()"
      ],
      "execution_count": 16,
      "outputs": [
        {
          "output_type": "display_data",
          "data": {
            "image/png": "[encoded data removed]",
            "text/plain": [
              "<Figure size 432x288 with 1 Axes>"
            ]
          },
          "metadata": {
            "tags": [],
            "needs_background": "light"
          }
        }
      ]
    },
    {
      "cell_type": "markdown",
      "metadata": {
        "id": "6TnYQLEcLANg"
      },
      "source": [
        "## Predictions"
      ]
    },
    {
      "cell_type": "code",
      "metadata": {
        "id": "M1TmDCIUK_8d",
        "colab": {
          "base_uri": "https://localhost:8080/",
          "height": 333
        },
        "outputId": "e7f57bb7-f736-4b81-cd17-c5723925ed2c"
      },
      "source": [
        "img=val_images[10]/255\n",
        "img=img.view(28, 28)\n",
        "#img2=np.roll(img, 5, axis=1)\n",
        "img2=torch.Tensor(img).view(-1,1,28,28).to(device)\n",
        "np_output=model(img2).cpu().detach().numpy()\n",
        "pred = np.exp(np_output)/np.sum(np.exp(np_output))\n",
        "print(fminst.classes[pred[0].argmax()])\n",
        "print(np_output)\n",
        "plt.imshow(img)"
      ],
      "execution_count": 17,
      "outputs": [
        {
          "output_type": "stream",
          "text": [
            "Coat\n",
            "[[ -5.8342814 -10.615602    1.8154509  -5.6001506   8.961556  -16.054905\n",
            "    3.9907289 -16.456308  -17.878035  -13.399138 ]]\n"
          ],
          "name": "stdout"
        },
        {
          "output_type": "execute_result",
          "data": {
            "text/plain": [
              "<matplotlib.image.AxesImage at 0x7fe10c322050>"
            ]
          },
          "metadata": {
            "tags": []
          },
          "execution_count": 17
        },
        {
          "output_type": "display_data",
          "data": {
            "image/png": "[encoded data removed]",
            "text/plain": [
              "<Figure size 432x288 with 1 Axes>"
            ]
          },
          "metadata": {
            "tags": [],
            "needs_background": "light"
          }
        }
      ]
    },
    {
      "cell_type": "code",
      "metadata": {
        "colab": {
          "base_uri": "https://localhost:8080/"
        },
        "id": "v-xZoIjsAvS2",
        "outputId": "6f5e4930-377a-43d5-f3a4-5df5751c211a"
      },
      "source": [
        "print(val_targets[10])"
      ],
      "execution_count": 18,
      "outputs": [
        {
          "output_type": "stream",
          "text": [
            "tensor(4)\n"
          ],
          "name": "stdout"
        }
      ]
    },
    {
      "cell_type": "code",
      "metadata": {
        "colab": {
          "base_uri": "https://localhost:8080/",
          "height": 333
        },
        "id": "i4WYJrl_4yjx",
        "outputId": "7b8bfcbd-be31-49e4-d250-c3c778022d4a"
      },
      "source": [
        "img=tr_images[24301]/255\n",
        "img=img.view(28, 28)\n",
        "#img2=np.roll(img, 5, axis=1)\n",
        "img2=torch.Tensor(img).view(-1,1,28,28).to(device)\n",
        "np_output=model(img2).cpu().detach().numpy()\n",
        "pred = np.exp(np_output)/np.sum(np.exp(np_output))\n",
        "print(fminst.classes[pred[0].argmax()])\n",
        "print(np_output)\n",
        "plt.imshow(img)"
      ],
      "execution_count": 19,
      "outputs": [
        {
          "output_type": "stream",
          "text": [
            "Ankle boot\n",
            "[[-10.311798   -4.5298953  -7.8935857  -5.0179625  -3.7948637  -3.6218598\n",
            "  -11.462159   -0.7188607  -8.662796    8.767785 ]]\n"
          ],
          "name": "stdout"
        },
        {
          "output_type": "execute_result",
          "data": {
            "text/plain": [
              "<matplotlib.image.AxesImage at 0x7fe10c0a4e10>"
            ]
          },
          "metadata": {
            "tags": []
          },
          "execution_count": 19
        },
        {
          "output_type": "display_data",
          "data": {
            "image/png": "[encoded data removed]",
            "text/plain": [
              "<Figure size 432x288 with 1 Axes>"
            ]
          },
          "metadata": {
            "tags": [],
            "needs_background": "light"
          }
        }
      ]
    },
    {
      "cell_type": "code",
      "metadata": {
        "colab": {
          "base_uri": "https://localhost:8080/"
        },
        "id": "BcldlHUHA_wI",
        "outputId": "f43a36b2-7564-403c-8586-21d9f89512bc"
      },
      "source": [
        "print(tr_targets[24301])"
      ],
      "execution_count": 20,
      "outputs": [
        {
          "output_type": "stream",
          "text": [
            "tensor(9)\n"
          ],
          "name": "stdout"
        }
      ]
    }
  ]
}