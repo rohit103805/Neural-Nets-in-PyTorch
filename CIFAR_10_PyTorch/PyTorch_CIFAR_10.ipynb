{
  "nbformat": 4,
  "nbformat_minor": 0,
  "metadata": {
    "colab": {
      "name": "PyTorch_CIFAR_10.ipynb",
      "provenance": [],
      "collapsed_sections": []
    },
    "kernelspec": {
      "name": "python3",
      "display_name": "Python 3"
    },
    "language_info": {
      "name": "python"
    },
    "accelerator": "GPU"
  },
  "cells": [
    {
      "cell_type": "code",
      "metadata": {
        "id": "7fo0t3egvCf1",
        "colab": {
          "base_uri": "https://localhost:8080/"
        },
        "outputId": "2cbf546a-5678-43bd-bfde-6dc86ce6b4d8"
      },
      "source": [
        "!nvidia-smi"
      ],
      "execution_count": 1,
      "outputs": [
        {
          "output_type": "stream",
          "text": [
            "Mon Aug  9 07:04:29 2021       \n",
            "+-----------------------------------------------------------------------------+\n",
            "| NVIDIA-SMI 470.42.01    Driver Version: 460.32.03    CUDA Version: 11.2     |\n",
            "|-------------------------------+----------------------+----------------------+\n",
            "| GPU  Name        Persistence-M| Bus-Id        Disp.A | Volatile Uncorr. ECC |\n",
            "| Fan  Temp  Perf  Pwr:Usage/Cap|         Memory-Usage | GPU-Util  Compute M. |\n",
            "|                               |                      |               MIG M. |\n",
            "|===============================+======================+======================|\n",
            "|   0  Tesla T4            Off  | 00000000:00:04.0 Off |                    0 |\n",
            "| N/A   48C    P8    10W /  70W |      0MiB / 15109MiB |      0%      Default |\n",
            "|                               |                      |                  N/A |\n",
            "+-------------------------------+----------------------+----------------------+\n",
            "                                                                               \n",
            "+-----------------------------------------------------------------------------+\n",
            "| Processes:                                                                  |\n",
            "|  GPU   GI   CI        PID   Type   Process name                  GPU Memory |\n",
            "|        ID   ID                                                   Usage      |\n",
            "|=============================================================================|\n",
            "|  No running processes found                                                 |\n",
            "+-----------------------------------------------------------------------------+\n"
          ],
          "name": "stdout"
        }
      ]
    },
    {
      "cell_type": "code",
      "metadata": {
        "id": "diHhVT1LbAT8"
      },
      "source": [
        "import torch\n",
        "import numpy as np\n",
        "import torch.nn as nn\n",
        "import matplotlib.pyplot as plt\n",
        "from torchvision import datasets\n",
        "from torch.utils.data import Dataset, DataLoader\n",
        "\n",
        "data_folder='/content'\n",
        "device = 'cuda' if torch.cuda.is_available() else 'cpu'"
      ],
      "execution_count": 2,
      "outputs": []
    },
    {
      "cell_type": "code",
      "metadata": {
        "colab": {
          "base_uri": "https://localhost:8080/"
        },
        "id": "MATq1HIgeoxy",
        "outputId": "fc4c7135-7f58-427e-e9e7-d86f52ae6408"
      },
      "source": [
        "cifar=datasets.CIFAR10(data_folder, download=True, train=True)\n",
        "tr_data=cifar.data\n",
        "tr_targets=cifar.targets\n",
        "\n",
        "val_cifar=datasets.CIFAR10(data_folder, download=True, train=False)\n",
        "val_data=val_cifar.data\n",
        "val_targets=val_cifar.targets"
      ],
      "execution_count": 3,
      "outputs": [
        {
          "output_type": "stream",
          "text": [
            "Files already downloaded and verified\n",
            "Files already downloaded and verified\n"
          ],
          "name": "stdout"
        }
      ]
    },
    {
      "cell_type": "code",
      "metadata": {
        "id": "GSNyDqb3oSjI"
      },
      "source": [
        "from numpy import moveaxis\n",
        "from numpy import asarray\n",
        "from PIL import Image"
      ],
      "execution_count": 4,
      "outputs": []
    },
    {
      "cell_type": "code",
      "metadata": {
        "id": "uohKo7kWnynm"
      },
      "source": [
        "tr_images=[]\n",
        "for i in range(0, 50000):\n",
        "  img=tr_data[i]\n",
        "  data=asarray(img)\n",
        "  data = moveaxis(data, 2, 0)\n",
        "  tr_images.append(data)\n",
        "\n",
        "tr_images=np.array(tr_images)"
      ],
      "execution_count": 5,
      "outputs": []
    },
    {
      "cell_type": "code",
      "metadata": {
        "id": "wctB_I1yrx7D"
      },
      "source": [
        "val_images=[]\n",
        "for i in range(0, 10000):\n",
        "  img=val_data[i]\n",
        "  data=asarray(img)\n",
        "  data = moveaxis(data, 2, 0)\n",
        "  val_images.append(data)\n",
        "\n",
        "val_images=np.array(val_images)"
      ],
      "execution_count": 6,
      "outputs": []
    },
    {
      "cell_type": "code",
      "metadata": {
        "colab": {
          "base_uri": "https://localhost:8080/"
        },
        "id": "EU5ozlXifbfg",
        "outputId": "b1971040-2287-4c15-c6cc-20766aa0504a"
      },
      "source": [
        "print(tr_images.shape)\n",
        "print(val_images.shape)"
      ],
      "execution_count": 7,
      "outputs": [
        {
          "output_type": "stream",
          "text": [
            "(50000, 3, 32, 32)\n",
            "(10000, 3, 32, 32)\n"
          ],
          "name": "stdout"
        }
      ]
    },
    {
      "cell_type": "code",
      "metadata": {
        "id": "4WZIBFQ4fihr"
      },
      "source": [
        "from imgaug import augmenters as iaa\n",
        "aug=iaa.Sequential([\n",
        "                    iaa.Affine(translate_px={'x':(-2, 2)}, mode='constant'),\n",
        "])"
      ],
      "execution_count": 8,
      "outputs": []
    },
    {
      "cell_type": "code",
      "metadata": {
        "id": "AL12FR1lf9Rl"
      },
      "source": [
        "class CIFAR(Dataset):\n",
        "  def __init__(self, x, y, aug=None):\n",
        "    self.x=x\n",
        "    self.y=y\n",
        "    self.aug=aug\n",
        "  def __getitem__(self, ix):\n",
        "    x=self.x[ix]\n",
        "    y=self.y[ix]\n",
        "    return x, y\n",
        "  def __len__(self):\n",
        "    return len(self.x)\n",
        "  def collate_fn(self, batch):\n",
        "    ims, classes=list(zip(*batch))\n",
        "    ims=self.aug.augment_images(images=ims)\n",
        "    ims=torch.tensor(ims).to(device)/255\n",
        "    classes=torch.tensor(classes).to(device)\n",
        "    return ims, classes"
      ],
      "execution_count": 9,
      "outputs": []
    },
    {
      "cell_type": "code",
      "metadata": {
        "id": "Sa9WREfbg9-l"
      },
      "source": [
        "from torch.optim import SGD, Adam\n",
        "def get_model():\n",
        "  model=nn.Sequential(\n",
        "      nn.Conv2d(3, 64, kernel_size=3),\n",
        "      nn.MaxPool2d(2),\n",
        "      nn.ReLU(),\n",
        "      nn.Dropout(0.2),\n",
        "      nn.Conv2d(64, 128, kernel_size=3),\n",
        "      nn.MaxPool2d(2),\n",
        "      nn.ReLU(),\n",
        "      nn.Dropout(0.3),\n",
        "      nn.Conv2d(128, 256, kernel_size=3),\n",
        "      nn.MaxPool2d(2),\n",
        "      nn.ReLU(),\n",
        "      nn.Dropout(0.4),\n",
        "      nn.Flatten(),\n",
        "      nn.Linear(1024, 200),\n",
        "      nn.ReLU(),\n",
        "      nn.Linear(200, 10)).to(device)\n",
        "\n",
        "  loss_fn=nn.CrossEntropyLoss()\n",
        "  optimizer=Adam(model.parameters(), lr=1e-3)\n",
        "  return model, loss_fn, optimizer"
      ],
      "execution_count": 10,
      "outputs": []
    },
    {
      "cell_type": "code",
      "metadata": {
        "id": "po1qbEdHju1_"
      },
      "source": [
        "def train_batch(x, y, model, optimizer, loss_fn):\n",
        "  model.train()\n",
        "  prediction=model(x)\n",
        "  batch_loss=loss_fn(prediction, y)\n",
        "  batch_loss.backward()\n",
        "  optimizer.step()\n",
        "  optimizer.zero_grad()\n",
        "  return batch_loss.item()"
      ],
      "execution_count": 11,
      "outputs": []
    },
    {
      "cell_type": "code",
      "metadata": {
        "id": "EfNjUah-kWoo"
      },
      "source": [
        "@torch.no_grad()\n",
        "def value_loss(x, y, model, loss_fn):\n",
        "  model.eval()\n",
        "  prediction=model(x)\n",
        "  val_loss=loss_fn(prediction, y)\n",
        "  return val_loss.item()"
      ],
      "execution_count": 12,
      "outputs": []
    },
    {
      "cell_type": "code",
      "metadata": {
        "id": "ssbIa3Xjk5KF"
      },
      "source": [
        "@torch.no_grad()\n",
        "def accuracy(x, y, model):\n",
        "  model.eval()\n",
        "  prediction = model(x)\n",
        "  max_values, argmaxes = prediction.max(-1)\n",
        "  is_correct = argmaxes == y\n",
        "  return is_correct.cpu().numpy().tolist()"
      ],
      "execution_count": 13,
      "outputs": []
    },
    {
      "cell_type": "code",
      "metadata": {
        "id": "jvaEO5EulHaB"
      },
      "source": [
        "def get_data():\n",
        "  train=CIFAR(tr_images, tr_targets, aug)\n",
        "  train_dl=DataLoader(train, batch_size=64, collate_fn=train.collate_fn, shuffle=True)\n",
        "  val=CIFAR(val_images, val_targets, aug)\n",
        "  val_dl=DataLoader(val, batch_size=64, collate_fn=val.collate_fn, shuffle=True)\n",
        "  return train_dl, val_dl"
      ],
      "execution_count": 14,
      "outputs": []
    },
    {
      "cell_type": "markdown",
      "metadata": {
        "id": "LrKLMqmhmVrY"
      },
      "source": [
        "## Training the Model"
      ]
    },
    {
      "cell_type": "code",
      "metadata": {
        "id": "LeY3nzcomSvF",
        "colab": {
          "base_uri": "https://localhost:8080/"
        },
        "outputId": "9cff90b9-6d48-43f1-bc55-7b5470d3fceb"
      },
      "source": [
        "train_loss, train_accuracy=[], [] #For training\n",
        "val_loss, val_accuracy=[], [] #For evaluation\n",
        "train_dl, val_dl = get_data()\n",
        "model, loss_fn, optimizer = get_model()\n",
        "for epoch in range(45):\n",
        "    print(epoch)\n",
        "    batch_losses_in_epoch, batch_accuracy_epoch=[], []  #For training\n",
        "    val_batch_losses_in_epoch, val_batch_accuracy_epoch=[], []  #For evaluation\n",
        "    for ix, batch in enumerate(iter(train_dl)):\n",
        "        x, y = batch\n",
        "        batch_loss = train_batch(x, y, model, optimizer, loss_fn)\n",
        "        is_correct = accuracy(x, y, model)\n",
        "        batch_losses_in_epoch.append(batch_loss)\n",
        "        batch_accuracy_epoch.extend(is_correct)\n",
        "    mean_batch_loss=np.mean(batch_losses_in_epoch)\n",
        "    epoch_accuracy=np.mean(batch_accuracy_epoch)\n",
        "    train_loss.append(mean_batch_loss)\n",
        "    train_accuracy.append(epoch_accuracy)\n",
        "\n",
        "    for ix, batch in enumerate(iter(val_dl)):\n",
        "        x, y = batch\n",
        "        val_batch_loss = value_loss(x, y, model, loss_fn)\n",
        "        is_correct = accuracy(x, y, model)\n",
        "        val_batch_losses_in_epoch.append(val_batch_loss)\n",
        "        val_batch_accuracy_epoch.extend(is_correct)\n",
        "    mean_batch_loss=np.mean(val_batch_losses_in_epoch)\n",
        "    epoch_accuracy=np.mean(val_batch_accuracy_epoch)\n",
        "    val_loss.append(mean_batch_loss)\n",
        "    val_accuracy.append(epoch_accuracy)"
      ],
      "execution_count": 15,
      "outputs": [
        {
          "output_type": "stream",
          "text": [
            "0\n"
          ],
          "name": "stdout"
        },
        {
          "output_type": "stream",
          "text": [
            "/usr/local/lib/python3.7/dist-packages/torch/nn/functional.py:718: UserWarning: Named tensors and all their associated APIs are an experimental feature and subject to change. Please do not use them for anything important until they are released as stable. (Triggered internally at  /pytorch/c10/core/TensorImpl.h:1156.)\n",
            "  return torch.max_pool2d(input, kernel_size, stride, padding, dilation, ceil_mode)\n"
          ],
          "name": "stderr"
        },
        {
          "output_type": "stream",
          "text": [
            "1\n",
            "2\n",
            "3\n",
            "4\n",
            "5\n",
            "6\n",
            "7\n",
            "8\n",
            "9\n",
            "10\n",
            "11\n",
            "12\n",
            "13\n",
            "14\n",
            "15\n",
            "16\n",
            "17\n",
            "18\n",
            "19\n",
            "20\n",
            "21\n",
            "22\n",
            "23\n",
            "24\n",
            "25\n",
            "26\n",
            "27\n",
            "28\n",
            "29\n",
            "30\n",
            "31\n",
            "32\n",
            "33\n",
            "34\n",
            "35\n",
            "36\n",
            "37\n",
            "38\n",
            "39\n",
            "40\n",
            "41\n",
            "42\n",
            "43\n",
            "44\n"
          ],
          "name": "stdout"
        }
      ]
    },
    {
      "cell_type": "code",
      "metadata": {
        "id": "wVQlPD6BuuYC",
        "colab": {
          "base_uri": "https://localhost:8080/",
          "height": 295
        },
        "outputId": "05a43347-4132-469b-dbf0-ccbedaeefcff"
      },
      "source": [
        "plt.plot(train_loss)\n",
        "plt.title('Loss variation over increasing epochs')\n",
        "plt.xlabel('epochs')\n",
        "plt.ylabel('loss value')\n",
        "plt.show()"
      ],
      "execution_count": 16,
      "outputs": [
        {
          "output_type": "display_data",
          "data": {
            "image/png": "[encoded data removed]",
            "text/plain": [
              "<Figure size 432x288 with 1 Axes>"
            ]
          },
          "metadata": {
            "tags": [],
            "needs_background": "light"
          }
        }
      ]
    },
    {
      "cell_type": "code",
      "metadata": {
        "id": "YEsbO9GQuxqm",
        "colab": {
          "base_uri": "https://localhost:8080/",
          "height": 295
        },
        "outputId": "df2f8db0-7c62-4cc4-dc1b-5d54a357c2e5"
      },
      "source": [
        "plt.plot(train_accuracy)\n",
        "plt.title('Accuracy variation over increasing epochs')\n",
        "plt.xlabel('epochs')\n",
        "plt.ylabel('Accuracy value')\n",
        "plt.show()"
      ],
      "execution_count": 17,
      "outputs": [
        {
          "output_type": "display_data",
          "data": {
            "image/png": "[encoded data removed]",
            "text/plain": [
              "<Figure size 432x288 with 1 Axes>"
            ]
          },
          "metadata": {
            "tags": [],
            "needs_background": "light"
          }
        }
      ]
    },
    {
      "cell_type": "code",
      "metadata": {
        "id": "eSuSU7mRuz92",
        "colab": {
          "base_uri": "https://localhost:8080/",
          "height": 295
        },
        "outputId": "a402f493-88ef-4c01-c873-b2dd66571149"
      },
      "source": [
        "plt.plot(val_loss)\n",
        "plt.title('Loss variation over increasing epochs')\n",
        "plt.xlabel('epochs')\n",
        "plt.ylabel('loss value')\n",
        "plt.show()"
      ],
      "execution_count": 18,
      "outputs": [
        {
          "output_type": "display_data",
          "data": {
            "image/png": "[encoded data removed]",
            "text/plain": [
              "<Figure size 432x288 with 1 Axes>"
            ]
          },
          "metadata": {
            "tags": [],
            "needs_background": "light"
          }
        }
      ]
    },
    {
      "cell_type": "code",
      "metadata": {
        "id": "IRgSkYBuu2Nn",
        "colab": {
          "base_uri": "https://localhost:8080/",
          "height": 295
        },
        "outputId": "a58f4345-f23e-4232-e1cc-aa540cfa80e3"
      },
      "source": [
        "plt.plot(val_accuracy)\n",
        "plt.title('Accuracy variation over increasing epochs')\n",
        "plt.xlabel('epochs')\n",
        "plt.ylabel('Accuracy value')\n",
        "plt.show()"
      ],
      "execution_count": 19,
      "outputs": [
        {
          "output_type": "display_data",
          "data": {
            "image/png": "[encoded data removed]",
            "text/plain": [
              "<Figure size 432x288 with 1 Axes>"
            ]
          },
          "metadata": {
            "tags": [],
            "needs_background": "light"
          }
        }
      ]
    },
    {
      "cell_type": "markdown",
      "metadata": {
        "id": "o0nwhUdnv8ZN"
      },
      "source": [
        "## Prediction"
      ]
    },
    {
      "cell_type": "code",
      "metadata": {
        "id": "gvJYDynEv-X8",
        "colab": {
          "base_uri": "https://localhost:8080/"
        },
        "outputId": "6483d7bb-2795-4c47-f67e-2628bbc2e059"
      },
      "source": [
        "img1=tr_images[24311]/255\n",
        "data=asarray(img1)\n",
        "data=moveaxis(data, 0, 2)\n",
        "img2=torch.tensor(img1, dtype=torch.float32).reshape(-1,3,32,32).to(device)\n",
        "np_output=model(img2)\n",
        "np_output=np_output.detach().cpu().numpy()\n",
        "print(np_output)"
      ],
      "execution_count": 20,
      "outputs": [
        {
          "output_type": "stream",
          "text": [
            "[[-3.3586943  -3.918692   -3.2930074  -0.34198335 -0.72969127  1.6033062\n",
            "  -5.0855722   8.319359   -2.8617759  -2.4592211 ]]\n"
          ],
          "name": "stdout"
        }
      ]
    },
    {
      "cell_type": "code",
      "metadata": {
        "colab": {
          "base_uri": "https://localhost:8080/",
          "height": 283
        },
        "id": "M7VB0Oktubty",
        "outputId": "3334dc99-bf1e-4420-c40a-23aff348589c"
      },
      "source": [
        "plt.imshow(data)"
      ],
      "execution_count": 21,
      "outputs": [
        {
          "output_type": "execute_result",
          "data": {
            "text/plain": [
              "<matplotlib.image.AxesImage at 0x7fd81e766c50>"
            ]
          },
          "metadata": {
            "tags": []
          },
          "execution_count": 21
        },
        {
          "output_type": "display_data",
          "data": {
            "image/png": "[encoded data removed]",
            "text/plain": [
              "<Figure size 432x288 with 1 Axes>"
            ]
          },
          "metadata": {
            "tags": [],
            "needs_background": "light"
          }
        }
      ]
    },
    {
      "cell_type": "code",
      "metadata": {
        "id": "1U0WVSbHwYk2",
        "colab": {
          "base_uri": "https://localhost:8080/"
        },
        "outputId": "f1972ad5-8675-4f2c-ffe3-7766aa92400f"
      },
      "source": [
        "print(tr_targets[24311])"
      ],
      "execution_count": 22,
      "outputs": [
        {
          "output_type": "stream",
          "text": [
            "7\n"
          ],
          "name": "stdout"
        }
      ]
    }
  ]
}