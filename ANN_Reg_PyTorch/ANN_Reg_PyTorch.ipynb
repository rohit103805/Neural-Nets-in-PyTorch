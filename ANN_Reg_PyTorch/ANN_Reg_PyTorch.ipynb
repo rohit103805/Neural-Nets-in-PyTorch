{
  "nbformat": 4,
  "nbformat_minor": 2,
  "metadata": {
    "colab": {
      "name": "ANN_Reg_PyTorch.ipynb",
      "provenance": [],
      "collapsed_sections": []
    },
    "kernelspec": {
      "name": "python3",
      "display_name": "Python 3"
    },
    "language_info": {
      "name": "python"
    },
    "accelerator": "GPU"
  },
  "cells": [
    {
      "cell_type": "markdown",
      "source": [
        "## Model"
      ],
      "metadata": {
        "id": "5Rsq4gnGt2nh"
      }
    },
    {
      "cell_type": "code",
      "execution_count": 1,
      "source": [
        "!nvidia-smi"
      ],
      "outputs": [
        {
          "output_type": "stream",
          "name": "stdout",
          "text": [
            "Mon Jul 12 12:34:36 2021       \n",
            "+-----------------------------------------------------------------------------+\n",
            "| NVIDIA-SMI 470.42.01    Driver Version: 460.32.03    CUDA Version: 11.2     |\n",
            "|-------------------------------+----------------------+----------------------+\n",
            "| GPU  Name        Persistence-M| Bus-Id        Disp.A | Volatile Uncorr. ECC |\n",
            "| Fan  Temp  Perf  Pwr:Usage/Cap|         Memory-Usage | GPU-Util  Compute M. |\n",
            "|                               |                      |               MIG M. |\n",
            "|===============================+======================+======================|\n",
            "|   0  Tesla T4            Off  | 00000000:00:04.0 Off |                    0 |\n",
            "| N/A   64C    P8    11W /  70W |      0MiB / 15109MiB |      0%      Default |\n",
            "|                               |                      |                  N/A |\n",
            "+-------------------------------+----------------------+----------------------+\n",
            "                                                                               \n",
            "+-----------------------------------------------------------------------------+\n",
            "| Processes:                                                                  |\n",
            "|  GPU   GI   CI        PID   Type   Process name                  GPU Memory |\n",
            "|        ID   ID                                                   Usage      |\n",
            "|=============================================================================|\n",
            "|  No running processes found                                                 |\n",
            "+-----------------------------------------------------------------------------+\n"
          ]
        }
      ],
      "metadata": {
        "colab": {
          "base_uri": "https://localhost:8080/"
        },
        "id": "HUNlOztvoUhd",
        "outputId": "0cc6fea6-62a9-411f-ac8a-e80dd98353f2"
      }
    },
    {
      "cell_type": "code",
      "execution_count": 2,
      "source": [
        "import torch\r\n",
        "import torch.nn as nn\r\n",
        "from torch.utils.data import DataLoader, Dataset\r\n",
        "import matplotlib.pyplot as plt\r\n",
        "from torchsummary import summary"
      ],
      "outputs": [],
      "metadata": {
        "id": "p7a5zS5BojGN"
      }
    },
    {
      "cell_type": "code",
      "execution_count": 3,
      "source": [
        "device = 'cuda' if torch.cuda.is_available() else 'cpu'"
      ],
      "outputs": [],
      "metadata": {
        "id": "srb8I4F-pjGa"
      }
    },
    {
      "cell_type": "code",
      "execution_count": 4,
      "source": [
        "x=[[1,2],[3,4],[5,6],[7,8],[9,10],[11,12]]\r\n",
        "y=[[3],[7],[11],[15],[19],[23]]"
      ],
      "outputs": [],
      "metadata": {
        "id": "f2sGQynZo7g_"
      }
    },
    {
      "cell_type": "code",
      "execution_count": 5,
      "source": [
        "class MyDataset(Dataset):\r\n",
        "  def __init__(self, x, y):\r\n",
        "    self.x=torch.tensor(x).float().to(device)\r\n",
        "    self.y=torch.tensor(y).float().to(device)\r\n",
        "  def __len__(self):\r\n",
        "    return len(self.x)\r\n",
        "  def __getitem__(self, ix):\r\n",
        "    return self.x[ix], self.y[ix]"
      ],
      "outputs": [],
      "metadata": {
        "id": "SuMiyl0opP-I"
      }
    },
    {
      "cell_type": "code",
      "execution_count": 6,
      "source": [
        "ds=MyDataset(x, y)\r\n",
        "dl=DataLoader(ds, batch_size=3, shuffle=True)"
      ],
      "outputs": [],
      "metadata": {
        "id": "qablzuqvqK_M"
      }
    },
    {
      "cell_type": "code",
      "execution_count": 7,
      "source": [
        "model=nn.Sequential(nn.Linear(2, 8), nn.ReLU(), nn.Linear(8, 1)).to(device)"
      ],
      "outputs": [],
      "metadata": {
        "id": "B931GE8Fqhiv"
      }
    },
    {
      "cell_type": "code",
      "execution_count": 8,
      "source": [
        "summary(model, ([[1, 2]]))"
      ],
      "outputs": [
        {
          "output_type": "stream",
          "name": "stdout",
          "text": [
            "----------------------------------------------------------------\n",
            "        Layer (type)               Output Shape         Param #\n",
            "================================================================\n",
            "            Linear-1                 [-1, 1, 8]              24\n",
            "              ReLU-2                 [-1, 1, 8]               0\n",
            "            Linear-3                 [-1, 1, 1]               9\n",
            "================================================================\n",
            "Total params: 33\n",
            "Trainable params: 33\n",
            "Non-trainable params: 0\n",
            "----------------------------------------------------------------\n",
            "Input size (MB): 0.00\n",
            "Forward/backward pass size (MB): 0.00\n",
            "Params size (MB): 0.00\n",
            "Estimated Total Size (MB): 0.00\n",
            "----------------------------------------------------------------\n"
          ]
        }
      ],
      "metadata": {
        "colab": {
          "base_uri": "https://localhost:8080/"
        },
        "id": "Go0xr58Xq4eO",
        "outputId": "d04953a3-a2ea-4971-cbaf-22010424e4e5"
      }
    },
    {
      "cell_type": "code",
      "execution_count": 9,
      "source": [
        "loss_func=nn.MSELoss()\r\n",
        "from torch.optim import SGD"
      ],
      "outputs": [],
      "metadata": {
        "id": "7E4U74aosVQD"
      }
    },
    {
      "cell_type": "code",
      "execution_count": 10,
      "source": [
        "opt=SGD(model.parameters(), lr=0.001)\r\n",
        "loss_history=[]"
      ],
      "outputs": [],
      "metadata": {
        "id": "eqArndwCsijS"
      }
    },
    {
      "cell_type": "code",
      "execution_count": 11,
      "source": [
        "for epochs in range(50):\r\n",
        "  for data in dl:\r\n",
        "    x, y=data\r\n",
        "    opt.zero_grad()\r\n",
        "    loss_value=loss_func(model(x), y)\r\n",
        "    loss_value.backward()\r\n",
        "    opt.step()\r\n",
        "    loss_history.append(loss_value)"
      ],
      "outputs": [],
      "metadata": {
        "id": "HrMXYchNstzY"
      }
    },
    {
      "cell_type": "code",
      "execution_count": 12,
      "source": [
        "plt.plot(loss_history)\r\n",
        "plt.title('Loss variation over increasing epochs')\r\n",
        "plt.xlabel('epochs')\r\n",
        "plt.ylabel('loss value')\r\n",
        "plt.show()"
      ],
      "outputs": [
        {
          "output_type": "display_data",
          "data": {
            "text/plain": [
              "<Figure size 432x288 with 1 Axes>"
            ],
            "image/png": "[encoded data removed]"
          },
          "metadata": {
            "tags": [],
            "needs_background": "light"
          }
        }
      ],
      "metadata": {
        "colab": {
          "base_uri": "https://localhost:8080/",
          "height": 295
        },
        "id": "Ath5FWdjtlLW",
        "outputId": "2659a9f1-d0c7-4372-b61b-97eafb447baa"
      }
    },
    {
      "cell_type": "markdown",
      "source": [
        "## Predictions"
      ],
      "metadata": {
        "id": "TXS_UdrCtyCC"
      }
    },
    {
      "cell_type": "code",
      "execution_count": 13,
      "source": [
        "Pred_val=[[20, 22]]\r\n",
        "Pred_val=torch.tensor(Pred_val).float().to(device)\r\n",
        "print(Pred_val)"
      ],
      "outputs": [
        {
          "output_type": "stream",
          "name": "stdout",
          "text": [
            "tensor([[20., 22.]], device='cuda:0')\n"
          ]
        }
      ],
      "metadata": {
        "colab": {
          "base_uri": "https://localhost:8080/"
        },
        "id": "4qzkGM-ftvAN",
        "outputId": "ce56b1db-a248-4766-ec31-383411d2ab93"
      }
    },
    {
      "cell_type": "code",
      "execution_count": 14,
      "source": [
        "output=model(Pred_val)\r\n",
        "print(output)"
      ],
      "outputs": [
        {
          "output_type": "stream",
          "name": "stdout",
          "text": [
            "tensor([[42.1926]], device='cuda:0', grad_fn=<AddmmBackward>)\n"
          ]
        }
      ],
      "metadata": {
        "colab": {
          "base_uri": "https://localhost:8080/"
        },
        "id": "Zp9Pq78DuOvt",
        "outputId": "7634054b-3684-4fb1-b1c7-46afa34fe1f6"
      }
    }
  ]
}